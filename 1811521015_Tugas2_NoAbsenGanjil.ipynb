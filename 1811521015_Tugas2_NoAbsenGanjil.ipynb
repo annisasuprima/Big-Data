{
  "nbformat": 4,
  "nbformat_minor": 0,
  "metadata": {
    "colab": {
      "name": "1811521015_Tugas2_NoAbsenGanjil.ipynb",
      "provenance": [],
      "collapsed_sections": [],
      "authorship_tag": "ABX9TyN5RckITcDA4FcSWijrHDS6",
      "include_colab_link": true
    },
    "kernelspec": {
      "name": "python3",
      "display_name": "Python 3"
    },
    "language_info": {
      "name": "python"
    }
  },
  "cells": [
    {
      "cell_type": "markdown",
      "metadata": {
        "id": "view-in-github",
        "colab_type": "text"
      },
      "source": [
        "<a href=\"https://colab.research.google.com/github/annisasuprima/Big-Data/blob/main/1811521015_Tugas2_NoAbsenGanjil.ipynb\" target=\"_parent\"><img src=\"https://colab.research.google.com/assets/colab-badge.svg\" alt=\"Open In Colab\"/></a>"
      ]
    },
    {
      "cell_type": "markdown",
      "metadata": {
        "id": "wLJhZIFdxeVp"
      },
      "source": [
        "**NUMPY**"
      ]
    },
    {
      "cell_type": "markdown",
      "metadata": {
        "id": "so80gcoaxw1I"
      },
      "source": [
        "1. melihat version numpy yang ada"
      ]
    },
    {
      "cell_type": "code",
      "metadata": {
        "colab": {
          "base_uri": "https://localhost:8080/",
          "height": 36
        },
        "id": "tdueJ5FKxYju",
        "outputId": "916459ee-4cbe-4546-afb3-bf6cf03a5294"
      },
      "source": [
        "import numpy\n",
        "numpy.__version__"
      ],
      "execution_count": 1,
      "outputs": [
        {
          "output_type": "execute_result",
          "data": {
            "application/vnd.google.colaboratory.intrinsic+json": {
              "type": "string"
            },
            "text/plain": [
              "'1.19.5'"
            ]
          },
          "metadata": {
            "tags": []
          },
          "execution_count": 1
        }
      ]
    },
    {
      "cell_type": "markdown",
      "metadata": {
        "id": "IyDz0Mcvx_WQ"
      },
      "source": [
        "2. Mengimport numpy"
      ]
    },
    {
      "cell_type": "code",
      "metadata": {
        "id": "JvZyufC2yFw1"
      },
      "source": [
        "import numpy as np"
      ],
      "execution_count": 2,
      "outputs": []
    },
    {
      "cell_type": "markdown",
      "metadata": {
        "id": "Fmr8ZGaoyOYW"
      },
      "source": [
        "3. Menampilkan dokumen bawaan numpy"
      ]
    },
    {
      "cell_type": "code",
      "metadata": {
        "id": "cNuLkHRVyRpZ"
      },
      "source": [
        "np?"
      ],
      "execution_count": 7,
      "outputs": []
    },
    {
      "cell_type": "markdown",
      "metadata": {
        "id": "m0eKHCqmyuVt"
      },
      "source": [
        "**1) UNDERSTANDING DATA TYPES IN PYTHON**"
      ]
    },
    {
      "cell_type": "markdown",
      "metadata": {
        "id": "KVe9tmLCzd_K"
      },
      "source": [
        "di python operasi dapat ditulis sebagai berikut "
      ]
    },
    {
      "cell_type": "code",
      "metadata": {
        "id": "0PN2HzKazGPV"
      },
      "source": [
        "result = 0\n",
        "for i in range(100):\n",
        " result += i"
      ],
      "execution_count": 10,
      "outputs": []
    },
    {
      "cell_type": "markdown",
      "metadata": {
        "id": "R-drCgp3z0eo"
      },
      "source": [
        "**a. A Python List Is More Than Just a List**"
      ]
    },
    {
      "cell_type": "markdown",
      "metadata": {
        "id": "NEpE6f7S0UsH"
      },
      "source": [
        "1.Menampung multielemen standar yang dapat berubah dalam Python adalah\n",
        "daftar. "
      ]
    },
    {
      "cell_type": "code",
      "metadata": {
        "colab": {
          "base_uri": "https://localhost:8080/"
        },
        "id": "KUF0yLoFz80d",
        "outputId": "db7701e9-333f-40dd-d4fe-44ee35326c9b"
      },
      "source": [
        "L = list(range(10))\n",
        "L"
      ],
      "execution_count": 14,
      "outputs": [
        {
          "output_type": "execute_result",
          "data": {
            "text/plain": [
              "[0, 1, 2, 3, 4, 5, 6, 7, 8, 9]"
            ]
          },
          "metadata": {
            "tags": []
          },
          "execution_count": 14
        }
      ]
    },
    {
      "cell_type": "markdown",
      "metadata": {
        "id": "hmNv7LgK071C"
      },
      "source": [
        "melihat tipe data dari indeks ke 0"
      ]
    },
    {
      "cell_type": "code",
      "metadata": {
        "colab": {
          "base_uri": "https://localhost:8080/"
        },
        "id": "vyDY3WNM0cv8",
        "outputId": "2dbbefc9-35b9-4cc1-ed03-89cdc01a6d21"
      },
      "source": [
        "type(L[0])\n"
      ],
      "execution_count": 17,
      "outputs": [
        {
          "output_type": "execute_result",
          "data": {
            "text/plain": [
              "int"
            ]
          },
          "metadata": {
            "tags": []
          },
          "execution_count": 17
        }
      ]
    },
    {
      "cell_type": "markdown",
      "metadata": {
        "id": "InB5g8fD1HQO"
      },
      "source": [
        "membuat list string"
      ]
    },
    {
      "cell_type": "code",
      "metadata": {
        "colab": {
          "base_uri": "https://localhost:8080/"
        },
        "id": "fpm5BfMh1ChV",
        "outputId": "752d16a4-aaca-43d1-c01a-4741ea75a61d"
      },
      "source": [
        " L2 = [str(c) for c in L]\n",
        " L2"
      ],
      "execution_count": 18,
      "outputs": [
        {
          "output_type": "execute_result",
          "data": {
            "text/plain": [
              "['0', '1', '2', '3', '4', '5', '6', '7', '8', '9']"
            ]
          },
          "metadata": {
            "tags": []
          },
          "execution_count": 18
        }
      ]
    },
    {
      "cell_type": "markdown",
      "metadata": {
        "id": "lL_COU7a1ML7"
      },
      "source": [
        "melihat type data dari indeks ke 0"
      ]
    },
    {
      "cell_type": "code",
      "metadata": {
        "colab": {
          "base_uri": "https://localhost:8080/"
        },
        "id": "Hmrgyg4q1P7g",
        "outputId": "466e0538-735d-43c2-bfa7-86be72b29ace"
      },
      "source": [
        "type(L2[0])\n"
      ],
      "execution_count": 19,
      "outputs": [
        {
          "output_type": "execute_result",
          "data": {
            "text/plain": [
              "str"
            ]
          },
          "metadata": {
            "tags": []
          },
          "execution_count": 19
        }
      ]
    },
    {
      "cell_type": "markdown",
      "metadata": {
        "id": "0YY1s2Rd1VJP"
      },
      "source": [
        "membuat daftar heterogen"
      ]
    },
    {
      "cell_type": "code",
      "metadata": {
        "colab": {
          "base_uri": "https://localhost:8080/"
        },
        "id": "pc70ADLd1XSJ",
        "outputId": "b91096b7-ddf4-4939-a7a3-2b29e71ce751"
      },
      "source": [
        "L3 = [True, \"2\", 3.0, 4]\n",
        "[type(item) for item in L3]"
      ],
      "execution_count": 20,
      "outputs": [
        {
          "output_type": "execute_result",
          "data": {
            "text/plain": [
              "[bool, str, float, int]"
            ]
          },
          "metadata": {
            "tags": []
          },
          "execution_count": 20
        }
      ]
    },
    {
      "cell_type": "markdown",
      "metadata": {
        "id": "RcH4TVa81jl3"
      },
      "source": [
        "**b. Fixed-Type Arrays in Python**"
      ]
    },
    {
      "cell_type": "markdown",
      "metadata": {
        "id": "3ewzJQyI1rZw"
      },
      "source": [
        " membuat\n",
        "array padat dari tipe seragam: "
      ]
    },
    {
      "cell_type": "code",
      "metadata": {
        "colab": {
          "base_uri": "https://localhost:8080/"
        },
        "id": "1d5_MKC31rKM",
        "outputId": "2c6a4d7c-b6e1-4e9b-fa8f-55a02257fa22"
      },
      "source": [
        "import array\n",
        "L = list(range(10))\n",
        "A = array.array('i', L)\n",
        "A"
      ],
      "execution_count": 21,
      "outputs": [
        {
          "output_type": "execute_result",
          "data": {
            "text/plain": [
              "array('i', [0, 1, 2, 3, 4, 5, 6, 7, 8, 9])"
            ]
          },
          "metadata": {
            "tags": []
          },
          "execution_count": 21
        }
      ]
    },
    {
      "cell_type": "markdown",
      "metadata": {
        "id": "Nj6txzw6186m"
      },
      "source": [
        "**c. Creating Arrays from Python Lists**"
      ]
    },
    {
      "cell_type": "markdown",
      "metadata": {
        "id": "37LmDgie2I7y"
      },
      "source": [
        "membuat array list"
      ]
    },
    {
      "cell_type": "code",
      "metadata": {
        "colab": {
          "base_uri": "https://localhost:8080/"
        },
        "id": "9yYvdd_Q2FBA",
        "outputId": "30f97059-21f9-4d73-fa16-54173fb8f7ec"
      },
      "source": [
        "#integer array:\n",
        "np.array([1, 4, 2, 5, 3])\n"
      ],
      "execution_count": 23,
      "outputs": [
        {
          "output_type": "execute_result",
          "data": {
            "text/plain": [
              "array([1, 4, 2, 5, 3])"
            ]
          },
          "metadata": {
            "tags": []
          },
          "execution_count": 23
        }
      ]
    },
    {
      "cell_type": "markdown",
      "metadata": {
        "id": "MO8mCa-82Tbg"
      },
      "source": [
        "NumPy dibatasi ke array yang semuanya berisi tipe yang sama. Jika jenis tidak cocok, NumPy akan upcast jika memungkinkan (di sini, integer adalah\n",
        "upcast ke floating point): "
      ]
    },
    {
      "cell_type": "code",
      "metadata": {
        "colab": {
          "base_uri": "https://localhost:8080/"
        },
        "id": "15ynEnD32VoN",
        "outputId": "8b96ef82-1d2c-478b-bf36-97090ed64143"
      },
      "source": [
        "np.array([3.14, 4, 2, 3])\n"
      ],
      "execution_count": 24,
      "outputs": [
        {
          "output_type": "execute_result",
          "data": {
            "text/plain": [
              "array([3.14, 4.  , 2.  , 3.  ])"
            ]
          },
          "metadata": {
            "tags": []
          },
          "execution_count": 24
        }
      ]
    },
    {
      "cell_type": "markdown",
      "metadata": {
        "id": "c9LQ1qLI2hFs"
      },
      "source": [
        "mengatur tipe data dari array yang dihasilkan, gunakan dtype"
      ]
    },
    {
      "cell_type": "code",
      "metadata": {
        "colab": {
          "base_uri": "https://localhost:8080/"
        },
        "id": "PZads-tX2lbt",
        "outputId": "a25e4f71-502c-4dbd-cef8-93cbc6d829ee"
      },
      "source": [
        "np.array([1, 2, 3, 4], dtype='float32')"
      ],
      "execution_count": 25,
      "outputs": [
        {
          "output_type": "execute_result",
          "data": {
            "text/plain": [
              "array([1., 2., 3., 4.], dtype=float32)"
            ]
          },
          "metadata": {
            "tags": []
          },
          "execution_count": 25
        }
      ]
    },
    {
      "cell_type": "markdown",
      "metadata": {
        "id": "bS5z6A3-2uxh"
      },
      "source": [
        "array NumPy secara eksplisit bisa multidimensi "
      ]
    },
    {
      "cell_type": "code",
      "metadata": {
        "colab": {
          "base_uri": "https://localhost:8080/"
        },
        "id": "-daqLFUt2yQh",
        "outputId": "af4ac7a3-c7ad-417a-b372-b3fd60510bf2"
      },
      "source": [
        "#nested lists result in multidimensional arrays\n",
        "np.array([range(i, i + 3) for i in [2, 4, 6]])\n"
      ],
      "execution_count": 26,
      "outputs": [
        {
          "output_type": "execute_result",
          "data": {
            "text/plain": [
              "array([[2, 3, 4],\n",
              "       [4, 5, 6],\n",
              "       [6, 7, 8]])"
            ]
          },
          "metadata": {
            "tags": []
          },
          "execution_count": 26
        }
      ]
    },
    {
      "cell_type": "markdown",
      "metadata": {
        "id": "pT7g3vO623JW"
      },
      "source": [
        "**d. Creating Arrays from Scratch**"
      ]
    },
    {
      "cell_type": "markdown",
      "metadata": {
        "id": "2SLNSBWx3GK7"
      },
      "source": [
        "Khusus untuk array yang lebih besar, akan lebih efisien untuk membuat array dari awal menggunakan routines dibangun ke dalam NumPy. Berikut beberapa contohnya: "
      ]
    },
    {
      "cell_type": "code",
      "metadata": {
        "colab": {
          "base_uri": "https://localhost:8080/"
        },
        "id": "mBuu9JAG2_ss",
        "outputId": "fcd8155f-59ac-4b66-8f0d-9fd1a8018ced"
      },
      "source": [
        "#Membuat larik bilangan bulat 10 panjang yang diisi dengan nol \n",
        "np.zeros(10, dtype=int)\n"
      ],
      "execution_count": 38,
      "outputs": [
        {
          "output_type": "execute_result",
          "data": {
            "text/plain": [
              "array([0, 0, 0, 0, 0, 0, 0, 0, 0, 0])"
            ]
          },
          "metadata": {
            "tags": []
          },
          "execution_count": 38
        }
      ]
    },
    {
      "cell_type": "code",
      "metadata": {
        "colab": {
          "base_uri": "https://localhost:8080/"
        },
        "id": "xFhf02KQ3Owb",
        "outputId": "111bdfdd-a666-4719-b8d1-ee36475ce317"
      },
      "source": [
        "#Membuat array floating-point 3x5 yang diisi dengan 1s \n",
        "np.ones((3, 5), dtype=float)\n"
      ],
      "execution_count": 36,
      "outputs": [
        {
          "output_type": "execute_result",
          "data": {
            "text/plain": [
              "array([[1., 1., 1., 1., 1.],\n",
              "       [1., 1., 1., 1., 1.],\n",
              "       [1., 1., 1., 1., 1.]])"
            ]
          },
          "metadata": {
            "tags": []
          },
          "execution_count": 36
        }
      ]
    },
    {
      "cell_type": "code",
      "metadata": {
        "colab": {
          "base_uri": "https://localhost:8080/"
        },
        "id": "mztps8T33R44",
        "outputId": "6b923b24-6880-4c48-c217-4a24fd7964d7"
      },
      "source": [
        "#Membuat array 3x5 dengan isi 3.14\n",
        "np.full((3, 5), 3.14)"
      ],
      "execution_count": 35,
      "outputs": [
        {
          "output_type": "execute_result",
          "data": {
            "text/plain": [
              "array([[3.14, 3.14, 3.14, 3.14, 3.14],\n",
              "       [3.14, 3.14, 3.14, 3.14, 3.14],\n",
              "       [3.14, 3.14, 3.14, 3.14, 3.14]])"
            ]
          },
          "metadata": {
            "tags": []
          },
          "execution_count": 35
        }
      ]
    },
    {
      "cell_type": "code",
      "metadata": {
        "colab": {
          "base_uri": "https://localhost:8080/"
        },
        "id": "bUDR5IrE3Yab",
        "outputId": "e9858f85-6ec7-42c2-bb80-f7ea5b21b60f"
      },
      "source": [
        "#Buat array yang diisi dengan urutan linier\n",
        "#Mulai dari 0, berakhir pada 20, step = 2\n",
        "#(ini mirip dengan fungsi range () bawaan) \n",
        "np.arange(0, 20, 2)\n"
      ],
      "execution_count": 34,
      "outputs": [
        {
          "output_type": "execute_result",
          "data": {
            "text/plain": [
              "array([ 0,  2,  4,  6,  8, 10, 12, 14, 16, 18])"
            ]
          },
          "metadata": {
            "tags": []
          },
          "execution_count": 34
        }
      ]
    },
    {
      "cell_type": "code",
      "metadata": {
        "colab": {
          "base_uri": "https://localhost:8080/"
        },
        "id": "Y9QlXhJc3eXi",
        "outputId": "bd2a72fc-c522-4a37-c7d3-f32fc199ba16"
      },
      "source": [
        "#Membuat array dengan lima nilai yang jaraknya sama antara 0 dan 1 \n",
        "np.linspace(0, 1, 5)\n"
      ],
      "execution_count": 33,
      "outputs": [
        {
          "output_type": "execute_result",
          "data": {
            "text/plain": [
              "array([0.  , 0.25, 0.5 , 0.75, 1.  ])"
            ]
          },
          "metadata": {
            "tags": []
          },
          "execution_count": 33
        }
      ]
    },
    {
      "cell_type": "code",
      "metadata": {
        "colab": {
          "base_uri": "https://localhost:8080/"
        },
        "id": "Lh4GcDNA3gk8",
        "outputId": "4a85d339-5cb7-4906-8ec8-209f94049380"
      },
      "source": [
        "#Membuat array 3x3 yang terdistribusi secara merata\n",
        "#nilai random dari 0 dan 1\n",
        "np.random.random((3, 3))\n"
      ],
      "execution_count": 39,
      "outputs": [
        {
          "output_type": "execute_result",
          "data": {
            "text/plain": [
              "array([[0.66826867, 0.6571839 , 0.73167255],\n",
              "       [0.34955158, 0.14078464, 0.61208771],\n",
              "       [0.05777495, 0.58741139, 0.36466276]])"
            ]
          },
          "metadata": {
            "tags": []
          },
          "execution_count": 39
        }
      ]
    },
    {
      "cell_type": "code",
      "metadata": {
        "colab": {
          "base_uri": "https://localhost:8080/"
        },
        "id": "qwxZifEr4oBR",
        "outputId": "90c92055-71bf-4041-fe55-6034d39b88b3"
      },
      "source": [
        "#Memuat array 3x3 dengan nilai acak yang terdistribusi normal\n",
        "#dengan mean 0 dan deviasi standar 1 \n",
        "np.random.normal(0, 1, (3, 3))"
      ],
      "execution_count": 40,
      "outputs": [
        {
          "output_type": "execute_result",
          "data": {
            "text/plain": [
              "array([[ 0.85280322,  0.68917167,  0.53850461],\n",
              "       [ 1.05225544,  0.934863  , -1.17099097],\n",
              "       [ 1.11964582,  0.30093352,  0.59908776]])"
            ]
          },
          "metadata": {
            "tags": []
          },
          "execution_count": 40
        }
      ]
    },
    {
      "cell_type": "code",
      "metadata": {
        "colab": {
          "base_uri": "https://localhost:8080/"
        },
        "id": "DIQlDj5i42gZ",
        "outputId": "f4a16ef9-b013-4ad3-cd13-06319224c89a"
      },
      "source": [
        "#Membuat array 3x3 dari bilangan bulat acak dalam interval [0, 10) \n",
        "np.random.randint(0, 10, (3, 3))\n"
      ],
      "execution_count": 41,
      "outputs": [
        {
          "output_type": "execute_result",
          "data": {
            "text/plain": [
              "array([[9, 4, 8],\n",
              "       [1, 8, 5],\n",
              "       [2, 4, 5]])"
            ]
          },
          "metadata": {
            "tags": []
          },
          "execution_count": 41
        }
      ]
    },
    {
      "cell_type": "code",
      "metadata": {
        "colab": {
          "base_uri": "https://localhost:8080/"
        },
        "id": "5F0ZyMJ25Akj",
        "outputId": "36beda92-5a33-4f0a-897c-8a480ff22157"
      },
      "source": [
        "#membuat matriks identitas 3x3\n",
        "np.eye(3)"
      ],
      "execution_count": 42,
      "outputs": [
        {
          "output_type": "execute_result",
          "data": {
            "text/plain": [
              "array([[1., 0., 0.],\n",
              "       [0., 1., 0.],\n",
              "       [0., 0., 1.]])"
            ]
          },
          "metadata": {
            "tags": []
          },
          "execution_count": 42
        }
      ]
    },
    {
      "cell_type": "code",
      "metadata": {
        "colab": {
          "base_uri": "https://localhost:8080/"
        },
        "id": "wtd7ioUV5MnI",
        "outputId": "5085cd6e-64db-4cdc-dab8-f47baf47b9f2"
      },
      "source": [
        "#Membuat array tiga bilangan bulat yang tidak diinisialisasi\n",
        "#Nilai akan menjadi apa pun yang terjadi sudah ada pada saat itu\n",
        "#lokasi memori \n",
        "np.empty(3)\n"
      ],
      "execution_count": 43,
      "outputs": [
        {
          "output_type": "execute_result",
          "data": {
            "text/plain": [
              "array([1., 1., 1.])"
            ]
          },
          "metadata": {
            "tags": []
          },
          "execution_count": 43
        }
      ]
    },
    {
      "cell_type": "markdown",
      "metadata": {
        "id": "1sGLQd6N5aGQ"
      },
      "source": [
        "**e. NumPy Standard Data Types**"
      ]
    },
    {
      "cell_type": "markdown",
      "metadata": {
        "id": "UxwBQejA5x3T"
      },
      "source": [
        "saat membangun\n",
        "sebuah array, Kita dapat menentukannya menggunakan string / menggunakan associated numpy object"
      ]
    },
    {
      "cell_type": "code",
      "metadata": {
        "colab": {
          "base_uri": "https://localhost:8080/"
        },
        "id": "uN4g5Ps95ekO",
        "outputId": "4aae2787-5db1-4d16-c3ba-8a9dc277bf4d"
      },
      "source": [
        "#String\n",
        "np.zeros(10, dtype='int16')\n"
      ],
      "execution_count": 44,
      "outputs": [
        {
          "output_type": "execute_result",
          "data": {
            "text/plain": [
              "array([0, 0, 0, 0, 0, 0, 0, 0, 0, 0], dtype=int16)"
            ]
          },
          "metadata": {
            "tags": []
          },
          "execution_count": 44
        }
      ]
    },
    {
      "cell_type": "code",
      "metadata": {
        "colab": {
          "base_uri": "https://localhost:8080/"
        },
        "id": "9nUIRo3V5r0U",
        "outputId": "c4ed200f-3b90-4f2b-fdc2-8458a268236f"
      },
      "source": [
        "#associated numpy object\n",
        "np.zeros(10, dtype=np.int16)\n"
      ],
      "execution_count": 45,
      "outputs": [
        {
          "output_type": "execute_result",
          "data": {
            "text/plain": [
              "array([0, 0, 0, 0, 0, 0, 0, 0, 0, 0], dtype=int16)"
            ]
          },
          "metadata": {
            "tags": []
          },
          "execution_count": 45
        }
      ]
    },
    {
      "cell_type": "markdown",
      "metadata": {
        "id": "K4hB40sZ6ESN"
      },
      "source": [
        "**2) The Basics of NumPy Arrays**"
      ]
    },
    {
      "cell_type": "markdown",
      "metadata": {
        "id": "EO1G8FiP6Jai"
      },
      "source": [
        "**a. Numpy Array Attributes**"
      ]
    },
    {
      "cell_type": "markdown",
      "metadata": {
        "id": "sC4vwcDI6YdI"
      },
      "source": [
        "Kitaakan menggunakan\n",
        "Generator nomor acak NumPy, yang akan kita seed dengan nilai yang ditetapkan untuk\n",
        "memastikan bahwa array acak yang sama dibuat setiap kali kode ini dijalankan: "
      ]
    },
    {
      "cell_type": "code",
      "metadata": {
        "id": "wRx2Md_U6fFz"
      },
      "source": [
        "import numpy as np\n",
        "np.random.seed(0) #seed for reproducibility\n",
        "x1 = np.random.randint(10, size=6) # One-dimensional array\n",
        "x2 = np.random.randint(10, size=(3, 4)) # Two-dimensional array\n",
        "x3 = np.random.randint(10, size=(3, 4, 5)) # Three-dimensional array"
      ],
      "execution_count": 48,
      "outputs": []
    },
    {
      "cell_type": "code",
      "metadata": {
        "colab": {
          "base_uri": "https://localhost:8080/"
        },
        "id": "KNiekBQn6xyZ",
        "outputId": "72552323-da9a-4390-e7bc-198bbf03721a"
      },
      "source": [
        "print(\"x3 ndim: \", x3.ndim)\n",
        "print(\"x3 shape:\", x3.shape)\n",
        "print(\"x3 size: \", x3.size)"
      ],
      "execution_count": 49,
      "outputs": [
        {
          "output_type": "stream",
          "text": [
            "x3 ndim:  3\n",
            "x3 shape: (3, 4, 5)\n",
            "x3 size:  60\n"
          ],
          "name": "stdout"
        }
      ]
    },
    {
      "cell_type": "code",
      "metadata": {
        "colab": {
          "base_uri": "https://localhost:8080/"
        },
        "id": "tzE7zmhn6mEC",
        "outputId": "d121f597-655d-4574-cd12-0e9dbbfe4a5a"
      },
      "source": [
        "#atribut dtype\n",
        "print(\"dtype:\", x3.dtype)\n"
      ],
      "execution_count": 51,
      "outputs": [
        {
          "output_type": "stream",
          "text": [
            "dtype: int64\n"
          ],
          "name": "stdout"
        }
      ]
    },
    {
      "cell_type": "markdown",
      "metadata": {
        "id": "o2xQpzrn7t5H"
      },
      "source": [
        "Atribut lain termasuk itemsize, yang mencantumkan ukuran (dalam byte) dari setiap elemen array.\n",
        "ment, dan nbytes, yang mencantumkan ukuran total (dalam byte) dari array: "
      ]
    },
    {
      "cell_type": "code",
      "metadata": {
        "colab": {
          "base_uri": "https://localhost:8080/"
        },
        "id": "csP9UWtG7yqN",
        "outputId": "0d61e083-ad02-4bc5-fa34-97071047c8b8"
      },
      "source": [
        "print(\"itemsize:\", x3.itemsize, \"bytes\")\n",
        "print(\"nbytes:\", x3.nbytes, \"bytes\")"
      ],
      "execution_count": 52,
      "outputs": [
        {
          "output_type": "stream",
          "text": [
            "itemsize: 8 bytes\n",
            "nbytes: 480 bytes\n"
          ],
          "name": "stdout"
        }
      ]
    },
    {
      "cell_type": "markdown",
      "metadata": {
        "id": "afjO58uo79UX"
      },
      "source": [
        "**b. Array Indexing: Accessing Single Elements**"
      ]
    },
    {
      "cell_type": "markdown",
      "metadata": {
        "id": "0VOTnBlN8OfQ"
      },
      "source": [
        "Dalam array satu dimensi, Anda dapat mengakses dengan menentukan indeks yang diinginkan dalam tanda kurung siku"
      ]
    },
    {
      "cell_type": "code",
      "metadata": {
        "colab": {
          "base_uri": "https://localhost:8080/"
        },
        "id": "ycwOFx2n8YlB",
        "outputId": "5ee8c6d1-4dab-4098-c923-8388e7a90042"
      },
      "source": [
        "x1"
      ],
      "execution_count": 53,
      "outputs": [
        {
          "output_type": "execute_result",
          "data": {
            "text/plain": [
              "array([5, 0, 3, 3, 7, 9])"
            ]
          },
          "metadata": {
            "tags": []
          },
          "execution_count": 53
        }
      ]
    },
    {
      "cell_type": "code",
      "metadata": {
        "colab": {
          "base_uri": "https://localhost:8080/"
        },
        "id": "P8XoY_O38bnv",
        "outputId": "697a301c-0b88-451d-dea9-affc88899e13"
      },
      "source": [
        "x1[0]\n"
      ],
      "execution_count": 54,
      "outputs": [
        {
          "output_type": "execute_result",
          "data": {
            "text/plain": [
              "5"
            ]
          },
          "metadata": {
            "tags": []
          },
          "execution_count": 54
        }
      ]
    },
    {
      "cell_type": "code",
      "metadata": {
        "colab": {
          "base_uri": "https://localhost:8080/"
        },
        "id": "24BgaF998ebj",
        "outputId": "c2d8f613-63c4-4a33-ea91-e2364de815f7"
      },
      "source": [
        "x1[4]\n"
      ],
      "execution_count": 55,
      "outputs": [
        {
          "output_type": "execute_result",
          "data": {
            "text/plain": [
              "7"
            ]
          },
          "metadata": {
            "tags": []
          },
          "execution_count": 55
        }
      ]
    },
    {
      "cell_type": "code",
      "metadata": {
        "colab": {
          "base_uri": "https://localhost:8080/"
        },
        "id": "zomVtLin8irf",
        "outputId": "3f261ea1-e6ca-4c3f-dc56-f10dec31d13b"
      },
      "source": [
        "#Untuks pengindeksan dari akhir array gunakan -\n",
        "x1[-1]\n"
      ],
      "execution_count": 56,
      "outputs": [
        {
          "output_type": "execute_result",
          "data": {
            "text/plain": [
              "9"
            ]
          },
          "metadata": {
            "tags": []
          },
          "execution_count": 56
        }
      ]
    },
    {
      "cell_type": "code",
      "metadata": {
        "colab": {
          "base_uri": "https://localhost:8080/"
        },
        "id": "G-42vdrA8vlU",
        "outputId": "f4a1c39a-aebc-4e8f-b9d9-4b6f9ef64f40"
      },
      "source": [
        "x1[-2]\n"
      ],
      "execution_count": 57,
      "outputs": [
        {
          "output_type": "execute_result",
          "data": {
            "text/plain": [
              "7"
            ]
          },
          "metadata": {
            "tags": []
          },
          "execution_count": 57
        }
      ]
    },
    {
      "cell_type": "markdown",
      "metadata": {
        "id": "n2HZxZ6Y81y7"
      },
      "source": [
        "Dalam array multidimensi, Kita mengakses item menggunakan tupel yang dipisahkan koma dari indeks: "
      ]
    },
    {
      "cell_type": "code",
      "metadata": {
        "colab": {
          "base_uri": "https://localhost:8080/"
        },
        "id": "hq8Au5Pv86zs",
        "outputId": "1736d825-833b-4005-a979-6f1120dc37d6"
      },
      "source": [
        "x2\n"
      ],
      "execution_count": 58,
      "outputs": [
        {
          "output_type": "execute_result",
          "data": {
            "text/plain": [
              "array([[3, 5, 2, 4],\n",
              "       [7, 6, 8, 8],\n",
              "       [1, 6, 7, 7]])"
            ]
          },
          "metadata": {
            "tags": []
          },
          "execution_count": 58
        }
      ]
    },
    {
      "cell_type": "code",
      "metadata": {
        "colab": {
          "base_uri": "https://localhost:8080/"
        },
        "id": "onGK2UqK89yM",
        "outputId": "b00cc5a8-828f-4dc9-a030-a49bd1c61328"
      },
      "source": [
        "x2[0, 0]"
      ],
      "execution_count": 59,
      "outputs": [
        {
          "output_type": "execute_result",
          "data": {
            "text/plain": [
              "3"
            ]
          },
          "metadata": {
            "tags": []
          },
          "execution_count": 59
        }
      ]
    },
    {
      "cell_type": "code",
      "metadata": {
        "colab": {
          "base_uri": "https://localhost:8080/"
        },
        "id": "0oXwi4XS9D2H",
        "outputId": "3a701c34-d8d6-4c91-a17e-1c174c5edeed"
      },
      "source": [
        " x2[2, 0]"
      ],
      "execution_count": 60,
      "outputs": [
        {
          "output_type": "execute_result",
          "data": {
            "text/plain": [
              "1"
            ]
          },
          "metadata": {
            "tags": []
          },
          "execution_count": 60
        }
      ]
    },
    {
      "cell_type": "code",
      "metadata": {
        "colab": {
          "base_uri": "https://localhost:8080/"
        },
        "id": "oAFJ4YCj9GNv",
        "outputId": "272c21c7-e9f8-4d9a-abe4-ddbb1aa87c1c"
      },
      "source": [
        " x2[2, -1]\n"
      ],
      "execution_count": 61,
      "outputs": [
        {
          "output_type": "execute_result",
          "data": {
            "text/plain": [
              "7"
            ]
          },
          "metadata": {
            "tags": []
          },
          "execution_count": 61
        }
      ]
    },
    {
      "cell_type": "markdown",
      "metadata": {
        "id": "aVDF-MrU9LXh"
      },
      "source": [
        "Kita dapat mengubah nilai menggunakan salah satu notasi indeks di atas "
      ]
    },
    {
      "cell_type": "code",
      "metadata": {
        "colab": {
          "base_uri": "https://localhost:8080/"
        },
        "id": "qKtfg1_-9PJc",
        "outputId": "138b436a-7a2d-4d91-ba05-d6ccfe1ea9f9"
      },
      "source": [
        " x2[0, 0] = 12\n",
        " x2"
      ],
      "execution_count": 62,
      "outputs": [
        {
          "output_type": "execute_result",
          "data": {
            "text/plain": [
              "array([[12,  5,  2,  4],\n",
              "       [ 7,  6,  8,  8],\n",
              "       [ 1,  6,  7,  7]])"
            ]
          },
          "metadata": {
            "tags": []
          },
          "execution_count": 62
        }
      ]
    },
    {
      "cell_type": "markdown",
      "metadata": {
        "id": "wzqjmYSQ9WWL"
      },
      "source": [
        "array NumPy memiliki tipe tetap. Ini berarti,misalnya, jika kita mencoba memasukkan nilai floating-point ke array integer, file nilai akan terpotong secara diam-diam"
      ]
    },
    {
      "cell_type": "code",
      "metadata": {
        "colab": {
          "base_uri": "https://localhost:8080/"
        },
        "id": "acQO9N9r9bAk",
        "outputId": "aba79f6c-b3e9-4fa1-9e24-aacc1eaadd31"
      },
      "source": [
        "x1[0] = 3.14159 # this will be truncated!\n",
        "x1"
      ],
      "execution_count": 63,
      "outputs": [
        {
          "output_type": "execute_result",
          "data": {
            "text/plain": [
              "array([3, 0, 3, 3, 7, 9])"
            ]
          },
          "metadata": {
            "tags": []
          },
          "execution_count": 63
        }
      ]
    },
    {
      "cell_type": "markdown",
      "metadata": {
        "id": "ta13KUsq9fXe"
      },
      "source": [
        "**c. Array Slicing: Accessing Subarrays**\n"
      ]
    },
    {
      "cell_type": "markdown",
      "metadata": {
        "id": "JxIS0pdE-OgA"
      },
      "source": [
        "cara mengakses subarray dalam satu dimensi dan dalam berbagai dimensi. "
      ]
    },
    {
      "cell_type": "markdown",
      "metadata": {
        "id": "OIn5nbLw9sRP"
      },
      "source": [
        "**one-dimensional subarrays**"
      ]
    },
    {
      "cell_type": "code",
      "metadata": {
        "colab": {
          "base_uri": "https://localhost:8080/"
        },
        "id": "stMrhyJq-C03",
        "outputId": "e3314436-106a-4a58-891d-6c348729532d"
      },
      "source": [
        "x = np.arange(10)\n",
        "x"
      ],
      "execution_count": 66,
      "outputs": [
        {
          "output_type": "execute_result",
          "data": {
            "text/plain": [
              "array([0, 1, 2, 3, 4, 5, 6, 7, 8, 9])"
            ]
          },
          "metadata": {
            "tags": []
          },
          "execution_count": 66
        }
      ]
    },
    {
      "cell_type": "code",
      "metadata": {
        "colab": {
          "base_uri": "https://localhost:8080/"
        },
        "id": "uqr5YQ76-TOn",
        "outputId": "79f66e9f-9500-448e-8697-a9d57f7bb14e"
      },
      "source": [
        " x[:5] # first five elements"
      ],
      "execution_count": 67,
      "outputs": [
        {
          "output_type": "execute_result",
          "data": {
            "text/plain": [
              "array([0, 1, 2, 3, 4])"
            ]
          },
          "metadata": {
            "tags": []
          },
          "execution_count": 67
        }
      ]
    },
    {
      "cell_type": "code",
      "metadata": {
        "colab": {
          "base_uri": "https://localhost:8080/"
        },
        "id": "ZSFwfPBo-VbP",
        "outputId": "63b2943a-dad8-409a-a626-a6a7e63047a0"
      },
      "source": [
        " x[5:] # elements after index 5"
      ],
      "execution_count": 68,
      "outputs": [
        {
          "output_type": "execute_result",
          "data": {
            "text/plain": [
              "array([5, 6, 7, 8, 9])"
            ]
          },
          "metadata": {
            "tags": []
          },
          "execution_count": 68
        }
      ]
    },
    {
      "cell_type": "code",
      "metadata": {
        "colab": {
          "base_uri": "https://localhost:8080/"
        },
        "id": "iHr0OIhG-Xz5",
        "outputId": "d0c67768-f77e-41ce-b242-432aaea21198"
      },
      "source": [
        " x[4:7] # middle subarray"
      ],
      "execution_count": 69,
      "outputs": [
        {
          "output_type": "execute_result",
          "data": {
            "text/plain": [
              "array([4, 5, 6])"
            ]
          },
          "metadata": {
            "tags": []
          },
          "execution_count": 69
        }
      ]
    },
    {
      "cell_type": "code",
      "metadata": {
        "colab": {
          "base_uri": "https://localhost:8080/"
        },
        "id": "up-P9dp8-eqN",
        "outputId": "7eee6978-0c3a-4fa7-bb2b-b9a2efba4fc4"
      },
      "source": [
        " x[::2] # every other element"
      ],
      "execution_count": 70,
      "outputs": [
        {
          "output_type": "execute_result",
          "data": {
            "text/plain": [
              "array([0, 2, 4, 6, 8])"
            ]
          },
          "metadata": {
            "tags": []
          },
          "execution_count": 70
        }
      ]
    },
    {
      "cell_type": "code",
      "metadata": {
        "colab": {
          "base_uri": "https://localhost:8080/"
        },
        "id": "EpGkIrL5-glH",
        "outputId": "b9651cf4-f43a-4c42-b553-704c06544308"
      },
      "source": [
        "x[1::2] # every other element, starting at index 1\n"
      ],
      "execution_count": 71,
      "outputs": [
        {
          "output_type": "execute_result",
          "data": {
            "text/plain": [
              "array([1, 3, 5, 7, 9])"
            ]
          },
          "metadata": {
            "tags": []
          },
          "execution_count": 71
        }
      ]
    },
    {
      "cell_type": "code",
      "metadata": {
        "colab": {
          "base_uri": "https://localhost:8080/"
        },
        "id": "1nGbGmit-kKT",
        "outputId": "d987d857-a97d-4826-fe8c-2d2636628b0e"
      },
      "source": [
        "x[::-1] # all elements, reversed"
      ],
      "execution_count": 72,
      "outputs": [
        {
          "output_type": "execute_result",
          "data": {
            "text/plain": [
              "array([9, 8, 7, 6, 5, 4, 3, 2, 1, 0])"
            ]
          },
          "metadata": {
            "tags": []
          },
          "execution_count": 72
        }
      ]
    },
    {
      "cell_type": "code",
      "metadata": {
        "colab": {
          "base_uri": "https://localhost:8080/"
        },
        "id": "qqcanAI2-lr7",
        "outputId": "207c1bdd-8fe4-42ab-a409-c556a1c512ec"
      },
      "source": [
        " x[5::-2] # reversed every other from index 5"
      ],
      "execution_count": 73,
      "outputs": [
        {
          "output_type": "execute_result",
          "data": {
            "text/plain": [
              "array([5, 3, 1])"
            ]
          },
          "metadata": {
            "tags": []
          },
          "execution_count": 73
        }
      ]
    },
    {
      "cell_type": "markdown",
      "metadata": {
        "id": "OpKzdMzh-nxK"
      },
      "source": [
        "**Multidimensional subarrays**"
      ]
    },
    {
      "cell_type": "code",
      "metadata": {
        "colab": {
          "base_uri": "https://localhost:8080/"
        },
        "id": "zKdlLnkE-tSY",
        "outputId": "a3e379ad-51e5-4a5c-9eb1-7fd4149265a2"
      },
      "source": [
        " x2"
      ],
      "execution_count": 74,
      "outputs": [
        {
          "output_type": "execute_result",
          "data": {
            "text/plain": [
              "array([[12,  5,  2,  4],\n",
              "       [ 7,  6,  8,  8],\n",
              "       [ 1,  6,  7,  7]])"
            ]
          },
          "metadata": {
            "tags": []
          },
          "execution_count": 74
        }
      ]
    },
    {
      "cell_type": "code",
      "metadata": {
        "colab": {
          "base_uri": "https://localhost:8080/"
        },
        "id": "Ea3f4AnO-vZG",
        "outputId": "f36e1aa9-1dba-421b-c143-79f9aab31145"
      },
      "source": [
        "x2[:2, :3] # two rows, three columns"
      ],
      "execution_count": 75,
      "outputs": [
        {
          "output_type": "execute_result",
          "data": {
            "text/plain": [
              "array([[12,  5,  2],\n",
              "       [ 7,  6,  8]])"
            ]
          },
          "metadata": {
            "tags": []
          },
          "execution_count": 75
        }
      ]
    },
    {
      "cell_type": "code",
      "metadata": {
        "colab": {
          "base_uri": "https://localhost:8080/"
        },
        "id": "XrmSTTI6-w_G",
        "outputId": "0fcf5a78-2ef7-4ab4-e2ae-8f60cb8a0625"
      },
      "source": [
        "x2[:3, ::2] # all rows, every other column"
      ],
      "execution_count": 76,
      "outputs": [
        {
          "output_type": "execute_result",
          "data": {
            "text/plain": [
              "array([[12,  2],\n",
              "       [ 7,  8],\n",
              "       [ 1,  7]])"
            ]
          },
          "metadata": {
            "tags": []
          },
          "execution_count": 76
        }
      ]
    },
    {
      "cell_type": "code",
      "metadata": {
        "colab": {
          "base_uri": "https://localhost:8080/"
        },
        "id": "vK8G1r6L-zl8",
        "outputId": "a670068a-b979-4527-fde3-ff914ec24b2b"
      },
      "source": [
        "#dimensi subarray bahkan dapat dibalik bersama: \n",
        "x2[::-1, ::-1]\n"
      ],
      "execution_count": 77,
      "outputs": [
        {
          "output_type": "execute_result",
          "data": {
            "text/plain": [
              "array([[ 7,  7,  6,  1],\n",
              "       [ 8,  8,  6,  7],\n",
              "       [ 4,  2,  5, 12]])"
            ]
          },
          "metadata": {
            "tags": []
          },
          "execution_count": 77
        }
      ]
    },
    {
      "cell_type": "markdown",
      "metadata": {
        "id": "Lq_KRTuE-7KT"
      },
      "source": [
        "**Accessing array rows and columns**"
      ]
    },
    {
      "cell_type": "markdown",
      "metadata": {
        "id": "h-M2ty3o_C1j"
      },
      "source": [
        "Untuk mengakses single baris atau kolom dari sebuah array.Kita dapat melakukan ini dengan menggabungkan pengindeksan dan slicing,\n",
        "menggunakan slice kosong yang ditandai dengan satu titik dua (:): "
      ]
    },
    {
      "cell_type": "code",
      "metadata": {
        "colab": {
          "base_uri": "https://localhost:8080/"
        },
        "id": "IIDYJhX5-9hf",
        "outputId": "1fffd93a-bb29-4608-be73-0feab684ffa3"
      },
      "source": [
        " print(x2[:, 0]) # first column of x2"
      ],
      "execution_count": 78,
      "outputs": [
        {
          "output_type": "stream",
          "text": [
            "[12  7  1]\n"
          ],
          "name": "stdout"
        }
      ]
    },
    {
      "cell_type": "code",
      "metadata": {
        "colab": {
          "base_uri": "https://localhost:8080/"
        },
        "id": "OCqrTeas_RIA",
        "outputId": "700800a7-c9a0-4181-8841-39544252fc54"
      },
      "source": [
        "print(x2[0, :]) # first row of x2"
      ],
      "execution_count": 79,
      "outputs": [
        {
          "output_type": "stream",
          "text": [
            "[12  5  2  4]\n"
          ],
          "name": "stdout"
        }
      ]
    },
    {
      "cell_type": "code",
      "metadata": {
        "colab": {
          "base_uri": "https://localhost:8080/"
        },
        "id": "ST28sIpB_Wof",
        "outputId": "731a214a-ed76-4659-cc0b-b9c5838abec0"
      },
      "source": [
        "#dalam kasus akses rroq, slice kosong dapat dihilangkan untuk sintaks yang lebih ringkas:\n",
        "print(x2[0]) # equivalent to x2[0, :]"
      ],
      "execution_count": 81,
      "outputs": [
        {
          "output_type": "stream",
          "text": [
            "[12  5  2  4]\n"
          ],
          "name": "stdout"
        }
      ]
    },
    {
      "cell_type": "markdown",
      "metadata": {
        "id": "iAaZnCua_jrs"
      },
      "source": [
        "**Subarrays as no-copy views**"
      ]
    },
    {
      "cell_type": "markdown",
      "metadata": {
        "id": "4NZ4CY1N_rZV"
      },
      "source": [
        "irisan array mengembalikan tampilan daripada salinan data array. Ini adalah salah satu area di mana NumPy\n",
        "mengiris array berbeda dari slicing daftar Python:"
      ]
    },
    {
      "cell_type": "code",
      "metadata": {
        "colab": {
          "base_uri": "https://localhost:8080/"
        },
        "id": "ucTo5lcP_k_Y",
        "outputId": "4e7f2b8a-f618-4f4b-f1d0-31e0e8125532"
      },
      "source": [
        "print(x2)\n"
      ],
      "execution_count": 82,
      "outputs": [
        {
          "output_type": "stream",
          "text": [
            "[[12  5  2  4]\n",
            " [ 7  6  8  8]\n",
            " [ 1  6  7  7]]\n"
          ],
          "name": "stdout"
        }
      ]
    },
    {
      "cell_type": "markdown",
      "metadata": {
        "id": "GtqUcpTV_5mZ"
      },
      "source": [
        "Mari kita ekstrak subarray 2x2 dari ini: "
      ]
    },
    {
      "cell_type": "code",
      "metadata": {
        "colab": {
          "base_uri": "https://localhost:8080/"
        },
        "id": "3VNFNQZp_9GV",
        "outputId": "83af0229-cbe5-43dc-cb7b-ef4ff75ea13a"
      },
      "source": [
        " x2_sub = x2[:2, :2]\n",
        " print(x2_sub)\n"
      ],
      "execution_count": 83,
      "outputs": [
        {
          "output_type": "stream",
          "text": [
            "[[12  5]\n",
            " [ 7  6]]\n"
          ],
          "name": "stdout"
        }
      ]
    },
    {
      "cell_type": "markdown",
      "metadata": {
        "id": "YROjHoNaAEkF"
      },
      "source": [
        "Sekarang jika kita memodifikasi subarray ini, kita akan melihat bahwa array asli berubah!"
      ]
    },
    {
      "cell_type": "code",
      "metadata": {
        "colab": {
          "base_uri": "https://localhost:8080/"
        },
        "id": "S8_IIEpfALY6",
        "outputId": "0fcfb511-9d91-45a4-9abd-38f9b9c66024"
      },
      "source": [
        "x2_sub[0, 0] = 99\n",
        "print(x2_sub)"
      ],
      "execution_count": 84,
      "outputs": [
        {
          "output_type": "stream",
          "text": [
            "[[99  5]\n",
            " [ 7  6]]\n"
          ],
          "name": "stdout"
        }
      ]
    },
    {
      "cell_type": "code",
      "metadata": {
        "colab": {
          "base_uri": "https://localhost:8080/"
        },
        "id": "2WCNgkP4APOK",
        "outputId": "40d94611-173b-4f1e-b750-a03753142792"
      },
      "source": [
        " print(x2)\n"
      ],
      "execution_count": 85,
      "outputs": [
        {
          "output_type": "stream",
          "text": [
            "[[99  5  2  4]\n",
            " [ 7  6  8  8]\n",
            " [ 1  6  7  7]]\n"
          ],
          "name": "stdout"
        }
      ]
    },
    {
      "cell_type": "markdown",
      "metadata": {
        "id": "6ye_GqyzAVTZ"
      },
      "source": [
        "**Creating copies of arrays**"
      ]
    },
    {
      "cell_type": "markdown",
      "metadata": {
        "id": "k7-v-S4XAfbB"
      },
      "source": [
        "salin data dalam array atau subarray. Ini dapat dilakukan paling mudah dengan file copy () metode: "
      ]
    },
    {
      "cell_type": "code",
      "metadata": {
        "colab": {
          "base_uri": "https://localhost:8080/"
        },
        "id": "jadE1psfAYm7",
        "outputId": "a630c953-0699-4a92-ec5d-23446c9bc64d"
      },
      "source": [
        " x2_sub_copy = x2[:2, :2].copy()\n",
        " print(x2_sub_copy)\n"
      ],
      "execution_count": 86,
      "outputs": [
        {
          "output_type": "stream",
          "text": [
            "[[99  5]\n",
            " [ 7  6]]\n"
          ],
          "name": "stdout"
        }
      ]
    },
    {
      "cell_type": "markdown",
      "metadata": {
        "id": "fg7dGd97ArLk"
      },
      "source": [
        "Jika sekarang kita memodifikasi subarray ini, array asli tidak tersentuh: "
      ]
    },
    {
      "cell_type": "code",
      "metadata": {
        "colab": {
          "base_uri": "https://localhost:8080/"
        },
        "id": "x-ahXVZ1AuH1",
        "outputId": "49d218cf-7714-40ae-c803-5d4046bf3b79"
      },
      "source": [
        " x2_sub_copy[0, 0] = 42\n",
        " print(x2_sub_copy)\n"
      ],
      "execution_count": 87,
      "outputs": [
        {
          "output_type": "stream",
          "text": [
            "[[42  5]\n",
            " [ 7  6]]\n"
          ],
          "name": "stdout"
        }
      ]
    },
    {
      "cell_type": "code",
      "metadata": {
        "colab": {
          "base_uri": "https://localhost:8080/"
        },
        "id": "bumFcMgGAvlj",
        "outputId": "fc0da1bd-6c10-48b7-f149-78eb5a37056c"
      },
      "source": [
        "print(x2)\n"
      ],
      "execution_count": 88,
      "outputs": [
        {
          "output_type": "stream",
          "text": [
            "[[99  5  2  4]\n",
            " [ 7  6  8  8]\n",
            " [ 1  6  7  7]]\n"
          ],
          "name": "stdout"
        }
      ]
    },
    {
      "cell_type": "markdown",
      "metadata": {
        "id": "pj7lrSSGAxwt"
      },
      "source": [
        "**Reshaping of Arrays**\n"
      ]
    },
    {
      "cell_type": "markdown",
      "metadata": {
        "id": "1fKdl85iA77g"
      },
      "source": [
        "Jenis operasi lain yang berguna adalah pembentukan kembali array. Cara paling fleksibel dari\n",
        "melakukan ini dengan metode reshape (). Misalnya, jika ingin meletakkan nomor bers 1 hingga 9 dalam kisi 3 × 3, Kita dapat melakukan hal berikut: "
      ]
    },
    {
      "cell_type": "code",
      "metadata": {
        "colab": {
          "base_uri": "https://localhost:8080/"
        },
        "id": "hid5OYaIBDJq",
        "outputId": "77bb8302-1bb3-4bce-c030-87e071a4f6db"
      },
      "source": [
        "grid = np.arange(1, 10).reshape((3, 3))\n",
        "print(grid)\n"
      ],
      "execution_count": 90,
      "outputs": [
        {
          "output_type": "stream",
          "text": [
            "[[1 2 3]\n",
            " [4 5 6]\n",
            " [7 8 9]]\n"
          ],
          "name": "stdout"
        }
      ]
    },
    {
      "cell_type": "markdown",
      "metadata": {
        "id": "NXKCHiTdBMC9"
      },
      "source": [
        "Pola pembentukan kembali lainnya adalah konversi array satu dimensi\n",
        "menjadi matriks baris atau kolom dua dimensi.Kita dapat melakukan ini dengan bentuk ulang metode, atau lebih mudah dengan menggunakan kata kunci sumbu baru dalam operasi: "
      ]
    },
    {
      "cell_type": "code",
      "metadata": {
        "colab": {
          "base_uri": "https://localhost:8080/"
        },
        "id": "ZMQ2yi08BVhc",
        "outputId": "707331df-ba07-4288-a945-02f8a944098b"
      },
      "source": [
        " x = np.array([1, 2, 3])\n",
        " # row vector via reshape\n",
        " x.reshape((1, 3))\n"
      ],
      "execution_count": 91,
      "outputs": [
        {
          "output_type": "execute_result",
          "data": {
            "text/plain": [
              "array([[1, 2, 3]])"
            ]
          },
          "metadata": {
            "tags": []
          },
          "execution_count": 91
        }
      ]
    },
    {
      "cell_type": "code",
      "metadata": {
        "colab": {
          "base_uri": "https://localhost:8080/"
        },
        "id": "93ixYxGRBZfG",
        "outputId": "61fe723d-feaa-4f79-ec99-1d7436171686"
      },
      "source": [
        "#row vector via newaxis\n",
        "x[np.newaxis, :]\n"
      ],
      "execution_count": 93,
      "outputs": [
        {
          "output_type": "execute_result",
          "data": {
            "text/plain": [
              "array([[1, 2, 3]])"
            ]
          },
          "metadata": {
            "tags": []
          },
          "execution_count": 93
        }
      ]
    },
    {
      "cell_type": "code",
      "metadata": {
        "colab": {
          "base_uri": "https://localhost:8080/"
        },
        "id": "z-UuBS8dBdWh",
        "outputId": "0d50741b-d2c4-46dd-9e7f-f24cf5b4d3e0"
      },
      "source": [
        "# column vector via reshape\n",
        "x.reshape((3, 1))\n"
      ],
      "execution_count": 94,
      "outputs": [
        {
          "output_type": "execute_result",
          "data": {
            "text/plain": [
              "array([[1],\n",
              "       [2],\n",
              "       [3]])"
            ]
          },
          "metadata": {
            "tags": []
          },
          "execution_count": 94
        }
      ]
    },
    {
      "cell_type": "code",
      "metadata": {
        "colab": {
          "base_uri": "https://localhost:8080/"
        },
        "id": "WGI59lBcBfh0",
        "outputId": "a1c56e5a-59b8-414a-bee7-4c0f604e40da"
      },
      "source": [
        "# column vector via newaxis\n",
        "x[:, np.newaxis]\n"
      ],
      "execution_count": 95,
      "outputs": [
        {
          "output_type": "execute_result",
          "data": {
            "text/plain": [
              "array([[1],\n",
              "       [2],\n",
              "       [3]])"
            ]
          },
          "metadata": {
            "tags": []
          },
          "execution_count": 95
        }
      ]
    },
    {
      "cell_type": "markdown",
      "metadata": {
        "id": "rUOZGHqOBjnc"
      },
      "source": [
        "**Array Concatenation and Splitting**\n"
      ]
    },
    {
      "cell_type": "markdown",
      "metadata": {
        "id": "rCK7ofl-CABI"
      },
      "source": [
        "Menggabungkan beberapa array menjadi satu, dan sebaliknya membagi satu array menjadi beberapa array."
      ]
    },
    {
      "cell_type": "markdown",
      "metadata": {
        "id": "tX-Hu-09CDnE"
      },
      "source": [
        "**Concatenation of arrays**"
      ]
    },
    {
      "cell_type": "markdown",
      "metadata": {
        "id": "hlbIbnoDCMsh"
      },
      "source": [
        "Penggabungan, atau penggabungan dua array di NumPy, dilakukan terutama\n",
        "melalui rutinitas np.concatenate, np.vstack, dan np.hstack. np.concatenate\n",
        "mengambil tupel atau daftar array sebagai argumen pertamanya "
      ]
    },
    {
      "cell_type": "code",
      "metadata": {
        "colab": {
          "base_uri": "https://localhost:8080/"
        },
        "id": "5tvIjmCZCQz0",
        "outputId": "1c12ddc0-0cf9-4781-a904-33c7c381f4d3"
      },
      "source": [
        "x = np.array([1, 2, 3])\n",
        "y = np.array([3, 2, 1])\n",
        "np.concatenate([x, y])\n"
      ],
      "execution_count": 96,
      "outputs": [
        {
          "output_type": "execute_result",
          "data": {
            "text/plain": [
              "array([1, 2, 3, 3, 2, 1])"
            ]
          },
          "metadata": {
            "tags": []
          },
          "execution_count": 96
        }
      ]
    },
    {
      "cell_type": "code",
      "metadata": {
        "colab": {
          "base_uri": "https://localhost:8080/"
        },
        "id": "ifrP5Hk6CW5v",
        "outputId": "e719c7a6-5b44-4761-aee8-118980456b0b"
      },
      "source": [
        "#menggabungkan lebih dari dua array sekaligus\n",
        "z = [99, 99, 99]\n",
        "print(np.concatenate([x, y, z]))"
      ],
      "execution_count": 97,
      "outputs": [
        {
          "output_type": "stream",
          "text": [
            "[ 1  2  3  3  2  1 99 99 99]\n"
          ],
          "name": "stdout"
        }
      ]
    },
    {
      "cell_type": "markdown",
      "metadata": {
        "id": "c-RlRmd4Cgxc"
      },
      "source": [
        "np.concatenate bisa digunakan untuk two-dimensional arrays:\n"
      ]
    },
    {
      "cell_type": "code",
      "metadata": {
        "id": "DOgltynzCj-j"
      },
      "source": [
        "grid = np.array([[1, 2, 3],[4, 5, 6]])"
      ],
      "execution_count": 101,
      "outputs": []
    },
    {
      "cell_type": "code",
      "metadata": {
        "colab": {
          "base_uri": "https://localhost:8080/"
        },
        "id": "L-oIAMAXCt6v",
        "outputId": "4c323829-b641-4446-af98-6bc833584ab0"
      },
      "source": [
        "# concatenate along the first axis\n",
        "np.concatenate([grid, grid])"
      ],
      "execution_count": 102,
      "outputs": [
        {
          "output_type": "execute_result",
          "data": {
            "text/plain": [
              "array([[1, 2, 3],\n",
              "       [4, 5, 6],\n",
              "       [1, 2, 3],\n",
              "       [4, 5, 6]])"
            ]
          },
          "metadata": {
            "tags": []
          },
          "execution_count": 102
        }
      ]
    },
    {
      "cell_type": "code",
      "metadata": {
        "colab": {
          "base_uri": "https://localhost:8080/"
        },
        "id": "K7oaJ0J6Cw7f",
        "outputId": "0b4dcf33-d4b1-42a2-ab78-84d741bf0e2d"
      },
      "source": [
        "# concatenate along the second axis (zero-indexed)\n",
        "np.concatenate([grid, grid], axis=1)\n"
      ],
      "execution_count": 104,
      "outputs": [
        {
          "output_type": "execute_result",
          "data": {
            "text/plain": [
              "array([[1, 2, 3, 1, 2, 3],\n",
              "       [4, 5, 6, 4, 5, 6]])"
            ]
          },
          "metadata": {
            "tags": []
          },
          "execution_count": 104
        }
      ]
    },
    {
      "cell_type": "markdown",
      "metadata": {
        "id": "Ng7lQH5GC4FJ"
      },
      "source": [
        "Untuk bekerja dengan array dengan dimensi campuran, akan lebih jelas menggunakan np.vstack\n",
        "Fungsi (stack vertikal) dan np.hstack (stack horizontal): "
      ]
    },
    {
      "cell_type": "code",
      "metadata": {
        "colab": {
          "base_uri": "https://localhost:8080/"
        },
        "id": "s5IDlvXwC9Ev",
        "outputId": "06380108-9f2c-427c-9ee8-4b652dc76abe"
      },
      "source": [
        "x = np.array([1, 2, 3])\n",
        "grid = np.array([[9, 8, 7],[6, 5, 4]])\n",
        "# vertically stack the arrays\n",
        "np.vstack([x, grid])\n"
      ],
      "execution_count": 105,
      "outputs": [
        {
          "output_type": "execute_result",
          "data": {
            "text/plain": [
              "array([[1, 2, 3],\n",
              "       [9, 8, 7],\n",
              "       [6, 5, 4]])"
            ]
          },
          "metadata": {
            "tags": []
          },
          "execution_count": 105
        }
      ]
    },
    {
      "cell_type": "code",
      "metadata": {
        "colab": {
          "base_uri": "https://localhost:8080/"
        },
        "id": "c2eVAbS2DEzG",
        "outputId": "d0ab7aaa-2b11-4d4f-9895-eb74ba8a013e"
      },
      "source": [
        "# horizontally stack the arrays\n",
        "y = np.array([[99],[99]])\n",
        "np.hstack([grid, y])"
      ],
      "execution_count": 106,
      "outputs": [
        {
          "output_type": "execute_result",
          "data": {
            "text/plain": [
              "array([[ 9,  8,  7, 99],\n",
              "       [ 6,  5,  4, 99]])"
            ]
          },
          "metadata": {
            "tags": []
          },
          "execution_count": 106
        }
      ]
    },
    {
      "cell_type": "markdown",
      "metadata": {
        "id": "5VrLNxxSDKpt"
      },
      "source": [
        "**Splitting of arrays**"
      ]
    },
    {
      "cell_type": "markdown",
      "metadata": {
        "id": "UeNj2uj2DR0J"
      },
      "source": [
        "Kebalikan dari penggabungan adalah pemisahan, yang diimplementasikan oleh fungsi np.split, np.hsplit, dan np.vsplit. Untuk masing-masing ini, kita dapat memberikan daftar indeks\n",
        "memberikan poin perpecahan: "
      ]
    },
    {
      "cell_type": "code",
      "metadata": {
        "colab": {
          "base_uri": "https://localhost:8080/"
        },
        "id": "T5sphpRdDUK6",
        "outputId": "59ddbf09-dad1-456d-cced-45e4cc50d90c"
      },
      "source": [
        "x = [1, 2, 3, 99, 99, 3, 2, 1]\n",
        "x1, x2, x3 = np.split(x, [3, 5])\n",
        "print(x1, x2, x3)\n"
      ],
      "execution_count": 107,
      "outputs": [
        {
          "output_type": "stream",
          "text": [
            "[1 2 3] [99 99] [3 2 1]\n"
          ],
          "name": "stdout"
        }
      ]
    },
    {
      "cell_type": "markdown",
      "metadata": {
        "id": "-er2fojKDdLJ"
      },
      "source": [
        "Perhatikan bahwa titik pisah N mengarah ke N + 1 subarray. Fungsi terkait np.hsplit dan np.vsplit serupa: "
      ]
    },
    {
      "cell_type": "code",
      "metadata": {
        "colab": {
          "base_uri": "https://localhost:8080/"
        },
        "id": "IulQgHxjDfcD",
        "outputId": "8b01e2ce-3c2a-4a2b-8a4c-2c93f1649b6b"
      },
      "source": [
        "grid = np.arange(16).reshape((4, 4))\n",
        "grid"
      ],
      "execution_count": 108,
      "outputs": [
        {
          "output_type": "execute_result",
          "data": {
            "text/plain": [
              "array([[ 0,  1,  2,  3],\n",
              "       [ 4,  5,  6,  7],\n",
              "       [ 8,  9, 10, 11],\n",
              "       [12, 13, 14, 15]])"
            ]
          },
          "metadata": {
            "tags": []
          },
          "execution_count": 108
        }
      ]
    },
    {
      "cell_type": "code",
      "metadata": {
        "colab": {
          "base_uri": "https://localhost:8080/"
        },
        "id": "rc62JTqtDjVc",
        "outputId": "6fe7250c-9b8c-4532-cbfb-af30472b9e05"
      },
      "source": [
        "upper, lower = np.vsplit(grid, [2])\n",
        "print(upper)\n",
        "print(lower)\n"
      ],
      "execution_count": 109,
      "outputs": [
        {
          "output_type": "stream",
          "text": [
            "[[0 1 2 3]\n",
            " [4 5 6 7]]\n",
            "[[ 8  9 10 11]\n",
            " [12 13 14 15]]\n"
          ],
          "name": "stdout"
        }
      ]
    },
    {
      "cell_type": "code",
      "metadata": {
        "colab": {
          "base_uri": "https://localhost:8080/"
        },
        "id": "eB7PGB4bDoUJ",
        "outputId": "9b8284f1-2a44-4ef2-93fa-d13c538b9504"
      },
      "source": [
        "left, right = np.hsplit(grid, [2])\n",
        "print(left)\n",
        "print(right)"
      ],
      "execution_count": 110,
      "outputs": [
        {
          "output_type": "stream",
          "text": [
            "[[ 0  1]\n",
            " [ 4  5]\n",
            " [ 8  9]\n",
            " [12 13]]\n",
            "[[ 2  3]\n",
            " [ 6  7]\n",
            " [10 11]\n",
            " [14 15]]\n"
          ],
          "name": "stdout"
        }
      ]
    },
    {
      "cell_type": "markdown",
      "metadata": {
        "id": "hekyP4S0DuIH"
      },
      "source": [
        "**3)Computation on NumPy Arrays: Universal Functions**"
      ]
    },
    {
      "cell_type": "markdown",
      "metadata": {
        "id": "GWbY_h2cD17l"
      },
      "source": [
        "**a. The Slowness of Loops**"
      ]
    },
    {
      "cell_type": "markdown",
      "metadata": {
        "id": "nX3ybPfrECIs"
      },
      "source": [
        "Misalnya, bayangkan kita memiliki array nilai dan ingin\n",
        "menghitung kebalikan dari masing-masing. mungkin terlihat seperti ini: "
      ]
    },
    {
      "cell_type": "code",
      "metadata": {
        "colab": {
          "base_uri": "https://localhost:8080/"
        },
        "id": "iw1J0G3eEGMN",
        "outputId": "fb3624f7-dce5-49b8-b003-469b5c104f67"
      },
      "source": [
        "import numpy as np\n",
        "np.random.seed(0)\n",
        "def compute_reciprocals(values):\n",
        "  output = np.empty(len(values))\n",
        "  for i in range(len(values)):\n",
        "    output[i] = 1.0 / values[i]\n",
        "    return output\n",
        " \n",
        "values = np.random.randint(1, 10, size=5)\n",
        "compute_reciprocals(values)"
      ],
      "execution_count": 113,
      "outputs": [
        {
          "output_type": "execute_result",
          "data": {
            "text/plain": [
              "array([0.16666667, 0.        , 0.        , 0.        , 0.        ])"
            ]
          },
          "metadata": {
            "tags": []
          },
          "execution_count": 113
        }
      ]
    },
    {
      "cell_type": "markdown",
      "metadata": {
        "id": "Quj12k2vEbk7"
      },
      "source": [
        "Tetapi jika kita mengukur waktu eksekusi kode ini untuk input yang besar, kita lihat bahwa operasi ini sangat lambat, mungkin sangat mengejutkan! Kami akan membandingkan ini dengan %timeit magic IPython "
      ]
    },
    {
      "cell_type": "code",
      "metadata": {
        "colab": {
          "base_uri": "https://localhost:8080/"
        },
        "id": "iUeBr4LiEjUD",
        "outputId": "f99fe641-e93f-4ae7-b5e1-5bca28a4088e"
      },
      "source": [
        "big_array = np.random.randint(1, 100, size=1000000)\n",
        "%timeit compute_reciprocals(big_array)\n"
      ],
      "execution_count": 115,
      "outputs": [
        {
          "output_type": "stream",
          "text": [
            "The slowest run took 9.50 times longer than the fastest. This could mean that an intermediate result is being cached.\n",
            "10000 loops, best of 5: 11.4 µs per loop\n"
          ],
          "name": "stdout"
        }
      ]
    },
    {
      "cell_type": "markdown",
      "metadata": {
        "id": "c_AaFmeEEr9T"
      },
      "source": [
        "**b. Introducing UFuncs**"
      ]
    },
    {
      "cell_type": "markdown",
      "metadata": {
        "id": "MA2g0n8GE3aL"
      },
      "source": [
        "Pendekatan vektorisasi ini dirancang untuk mendorong loop ke lapisan terkompilasi yang mendasari NumPy, yang mengarah ke eksekusi yang jauh lebih cepat.\n",
        "Bandingkan hasil dari dua hal berikut: "
      ]
    },
    {
      "cell_type": "code",
      "metadata": {
        "colab": {
          "base_uri": "https://localhost:8080/"
        },
        "id": "ilUkdZu0E6pt",
        "outputId": "4a020cd1-75bf-4679-96c6-a54635394d44"
      },
      "source": [
        "print(compute_reciprocals(values))\n",
        "print(1.0 / values)\n"
      ],
      "execution_count": 116,
      "outputs": [
        {
          "output_type": "stream",
          "text": [
            "[0.16666667 0.         0.         0.         0.        ]\n",
            "[0.16666667 1.         0.25       0.25       0.125     ]\n"
          ],
          "name": "stdout"
        }
      ]
    },
    {
      "cell_type": "code",
      "metadata": {
        "colab": {
          "base_uri": "https://localhost:8080/"
        },
        "id": "MSEQK185FB9h",
        "outputId": "d4673baa-e396-4030-a2fd-8913f8606705"
      },
      "source": [
        "%timeit (1.0 / big_array)\n"
      ],
      "execution_count": 117,
      "outputs": [
        {
          "output_type": "stream",
          "text": [
            "The slowest run took 4.44 times longer than the fastest. This could mean that an intermediate result is being cached.\n",
            "100 loops, best of 5: 2.15 ms per loop\n"
          ],
          "name": "stdout"
        }
      ]
    },
    {
      "cell_type": "markdown",
      "metadata": {
        "id": "LjB3xUXFFKXe"
      },
      "source": [
        "Operasi vektor di NumPy diimplementasikan melalui ufunc, yang tujuan utamanya adalah untuk dengan cepat menjalankan operasi berulang pada nilai dalam array NumPy. Ufuncs adalah sangat fleksibel — sebelum kita melihat operasi antara skalar dan array, tapi kita juga dapat beroperasi di antara dua array: "
      ]
    },
    {
      "cell_type": "code",
      "metadata": {
        "colab": {
          "base_uri": "https://localhost:8080/"
        },
        "id": "t5JJIguRFQe2",
        "outputId": "c096ba99-eb62-4f9a-8bee-7dd66cfcf0ef"
      },
      "source": [
        "np.arange(5) / np.arange(1, 6)"
      ],
      "execution_count": 118,
      "outputs": [
        {
          "output_type": "execute_result",
          "data": {
            "text/plain": [
              "array([0.        , 0.5       , 0.66666667, 0.75      , 0.8       ])"
            ]
          },
          "metadata": {
            "tags": []
          },
          "execution_count": 118
        }
      ]
    },
    {
      "cell_type": "code",
      "metadata": {
        "colab": {
          "base_uri": "https://localhost:8080/"
        },
        "id": "C7q_g2M0FVvH",
        "outputId": "8c912fea-982e-414a-ea17-9e77153ef0b1"
      },
      "source": [
        "#pada array multidimensi\n",
        "x = np.arange(9).reshape((3, 3))\n",
        "2 ** x"
      ],
      "execution_count": 119,
      "outputs": [
        {
          "output_type": "execute_result",
          "data": {
            "text/plain": [
              "array([[  1,   2,   4],\n",
              "       [  8,  16,  32],\n",
              "       [ 64, 128, 256]])"
            ]
          },
          "metadata": {
            "tags": []
          },
          "execution_count": 119
        }
      ]
    },
    {
      "cell_type": "markdown",
      "metadata": {
        "id": "wyrNQSYOFeNW"
      },
      "source": [
        "**c. Exploring NumPy’s UFuncs**"
      ]
    },
    {
      "cell_type": "markdown",
      "metadata": {
        "id": "S7qhh1I2FnWe"
      },
      "source": [
        "Ufunc ada dalam dua bentuk: ufunc unary, yang beroperasi pada satu input, dan biner ufuncs, yang beroperasi pada dua input. Kita akan melihat contoh dari kedua jenis fungsi ini di sini. "
      ]
    },
    {
      "cell_type": "markdown",
      "metadata": {
        "id": "bFCAidrPFsdl"
      },
      "source": [
        "**Array arithmetic**"
      ]
    },
    {
      "cell_type": "code",
      "metadata": {
        "colab": {
          "base_uri": "https://localhost:8080/"
        },
        "id": "nMJG_dA2Fqk3",
        "outputId": "22fbff29-fcab-4c0b-eed7-b99b60552cd5"
      },
      "source": [
        " x = np.arange(4)\n",
        " print(\"x =\", x)\n",
        " print(\"x + 5 =\", x + 5)\n",
        " print(\"x - 5 =\", x - 5)\n",
        " print(\"x * 2 =\", x * 2)\n",
        " print(\"x / 2 =\", x / 2)\n",
        " print(\"x // 2 =\", x // 2) # floor division"
      ],
      "execution_count": 120,
      "outputs": [
        {
          "output_type": "stream",
          "text": [
            "x = [0 1 2 3]\n",
            "x + 5 = [5 6 7 8]\n",
            "x - 5 = [-5 -4 -3 -2]\n",
            "x * 2 = [0 2 4 6]\n",
            "x / 2 = [0.  0.5 1.  1.5]\n",
            "x // 2 = [0 0 1 1]\n"
          ],
          "name": "stdout"
        }
      ]
    },
    {
      "cell_type": "code",
      "metadata": {
        "colab": {
          "base_uri": "https://localhost:8080/"
        },
        "id": "xlLNxx49F7sE",
        "outputId": "a8eac570-7985-4033-864e-6e03337a3912"
      },
      "source": [
        "#ufunc unary untuk negasi, operator ** untuk eksponen\n",
        "#%operator untuk modulus \n",
        "print(\"-x = \", -x)\n",
        "print(\"x ** 2 = \", x ** 2)\n",
        "print(\"x % 2 = \", x % 2)\n"
      ],
      "execution_count": 121,
      "outputs": [
        {
          "output_type": "stream",
          "text": [
            "-x =  [ 0 -1 -2 -3]\n",
            "x ** 2 =  [0 1 4 9]\n",
            "x % 2 =  [0 1 0 1]\n"
          ],
          "name": "stdout"
        }
      ]
    },
    {
      "cell_type": "code",
      "metadata": {
        "colab": {
          "base_uri": "https://localhost:8080/"
        },
        "id": "dSAimT8QGHNk",
        "outputId": "90f54387-6bca-4421-e2e9-44b7a6791591"
      },
      "source": [
        "-(0.5*x + 1) ** 2"
      ],
      "execution_count": 122,
      "outputs": [
        {
          "output_type": "execute_result",
          "data": {
            "text/plain": [
              "array([-1.  , -2.25, -4.  , -6.25])"
            ]
          },
          "metadata": {
            "tags": []
          },
          "execution_count": 122
        }
      ]
    },
    {
      "cell_type": "markdown",
      "metadata": {
        "id": "ziKdmmHPGNhg"
      },
      "source": [
        "fungsi yang dibangun ke dalam NumPy; misalnya, operator + adalah pembungkus untuk add fungsi:"
      ]
    },
    {
      "cell_type": "code",
      "metadata": {
        "colab": {
          "base_uri": "https://localhost:8080/"
        },
        "id": "7E3AajyHGPNh",
        "outputId": "3a5f60cb-cc3a-4e85-f11c-2549e6b7823c"
      },
      "source": [
        "np.add(x, 2)"
      ],
      "execution_count": 123,
      "outputs": [
        {
          "output_type": "execute_result",
          "data": {
            "text/plain": [
              "array([2, 3, 4, 5])"
            ]
          },
          "metadata": {
            "tags": []
          },
          "execution_count": 123
        }
      ]
    },
    {
      "cell_type": "markdown",
      "metadata": {
        "id": "peWzjjyzGTHX"
      },
      "source": [
        "**absolute value**"
      ]
    },
    {
      "cell_type": "markdown",
      "metadata": {
        "id": "a6qqalEpGYnC"
      },
      "source": [
        "Sama seperti NumPy yang memahami operator aritmatika bawaan Python, NumPy juga memahaminya Fungsi nilai absolut bawaan Python: "
      ]
    },
    {
      "cell_type": "code",
      "metadata": {
        "colab": {
          "base_uri": "https://localhost:8080/"
        },
        "id": "5DiQ_C9wGbT-",
        "outputId": "c60622c0-63a5-4751-bf8c-fd044a0c114f"
      },
      "source": [
        "x = np.array([-2, -1, 0, 1, 2])\n",
        "abs(x)\n"
      ],
      "execution_count": 124,
      "outputs": [
        {
          "output_type": "execute_result",
          "data": {
            "text/plain": [
              "array([2, 1, 0, 1, 2])"
            ]
          },
          "metadata": {
            "tags": []
          },
          "execution_count": 124
        }
      ]
    },
    {
      "cell_type": "markdown",
      "metadata": {
        "id": "ev8UYTiQGiXu"
      },
      "source": [
        "Ufunc NumPy yang sesuai adalah np.absolute, yang juga tersedia di bawah\n",
        "alias np.abs: "
      ]
    },
    {
      "cell_type": "code",
      "metadata": {
        "colab": {
          "base_uri": "https://localhost:8080/"
        },
        "id": "dIZilkI8GnF6",
        "outputId": "a4729208-a1de-454d-b27e-2a2612b39280"
      },
      "source": [
        "np.absolute(x)\n"
      ],
      "execution_count": 125,
      "outputs": [
        {
          "output_type": "execute_result",
          "data": {
            "text/plain": [
              "array([2, 1, 0, 1, 2])"
            ]
          },
          "metadata": {
            "tags": []
          },
          "execution_count": 125
        }
      ]
    },
    {
      "cell_type": "code",
      "metadata": {
        "colab": {
          "base_uri": "https://localhost:8080/"
        },
        "id": "FygYn26xGpOd",
        "outputId": "cda2cf53-7ce8-428c-f441-5e2952d416f1"
      },
      "source": [
        " np.abs(x)\n"
      ],
      "execution_count": 126,
      "outputs": [
        {
          "output_type": "execute_result",
          "data": {
            "text/plain": [
              "array([2, 1, 0, 1, 2])"
            ]
          },
          "metadata": {
            "tags": []
          },
          "execution_count": 126
        }
      ]
    },
    {
      "cell_type": "code",
      "metadata": {
        "colab": {
          "base_uri": "https://localhost:8080/"
        },
        "id": "NKeFpPPOGrmq",
        "outputId": "9113991a-bee7-4a85-94d9-263e841b23db"
      },
      "source": [
        " #Handle data yang kompleks menggunkan ufunx\n",
        " x = np.array([3 - 4j, 4 - 3j, 2 + 0j, 0 + 1j])\n",
        " np.abs(x)\n"
      ],
      "execution_count": 127,
      "outputs": [
        {
          "output_type": "execute_result",
          "data": {
            "text/plain": [
              "array([5., 5., 2., 1.])"
            ]
          },
          "metadata": {
            "tags": []
          },
          "execution_count": 127
        }
      ]
    },
    {
      "cell_type": "markdown",
      "metadata": {
        "id": "31FWCLLeG5tJ"
      },
      "source": [
        "**Trigonometric functions**"
      ]
    },
    {
      "cell_type": "markdown",
      "metadata": {
        "id": "SgOWJ9y4G_Nq"
      },
      "source": [
        "NumPy menyediakan sejumlah besar ufunc yang berguna, dan beberapa yang paling berguna untuk file ilmuwan data adalah fungsi trigonometri. "
      ]
    },
    {
      "cell_type": "code",
      "metadata": {
        "id": "ZMPA2_-OHBKA"
      },
      "source": [
        "#array sudut\n",
        "theta = np.linspace(0, np.pi, 3)\n"
      ],
      "execution_count": 128,
      "outputs": []
    },
    {
      "cell_type": "code",
      "metadata": {
        "colab": {
          "base_uri": "https://localhost:8080/"
        },
        "id": "GwwPv2tBHFyT",
        "outputId": "86f98e86-1f46-462e-f8e1-ff4e0d5c662c"
      },
      "source": [
        "#Menghitung beberapa fungsi trigonometri pada nilai-nilai\n",
        "print(\"theta = \", theta)\n",
        "print(\"sin(theta) = \", np.sin(theta))\n",
        "print(\"cos(theta) = \", np.cos(theta))\n",
        "print(\"tan(theta) = \", np.tan(theta))\n"
      ],
      "execution_count": 129,
      "outputs": [
        {
          "output_type": "stream",
          "text": [
            "theta =  [0.         1.57079633 3.14159265]\n",
            "sin(theta) =  [0.0000000e+00 1.0000000e+00 1.2246468e-16]\n",
            "cos(theta) =  [ 1.000000e+00  6.123234e-17 -1.000000e+00]\n",
            "tan(theta) =  [ 0.00000000e+00  1.63312394e+16 -1.22464680e-16]\n"
          ],
          "name": "stdout"
        }
      ]
    },
    {
      "cell_type": "code",
      "metadata": {
        "colab": {
          "base_uri": "https://localhost:8080/"
        },
        "id": "vXog9UboHTOk",
        "outputId": "4fa35a6b-bfff-4a78-a74c-b6ac25987efe"
      },
      "source": [
        "x = [-1, 0, 1]\n",
        "print(\"x = \", x)\n",
        "print(\"arcsin(x) = \", np.arcsin(x))\n",
        "print(\"arccos(x) = \", np.arccos(x))\n",
        "print(\"arctan(x) = \", np.arctan(x))\n"
      ],
      "execution_count": 131,
      "outputs": [
        {
          "output_type": "stream",
          "text": [
            "x =  [-1, 0, 1]\n",
            "arcsin(x) =  [-1.57079633  0.          1.57079633]\n",
            "arccos(x) =  [3.14159265 1.57079633 0.        ]\n",
            "arctan(x) =  [-0.78539816  0.          0.78539816]\n"
          ],
          "name": "stdout"
        }
      ]
    },
    {
      "cell_type": "markdown",
      "metadata": {
        "id": "HqKM5NItHXUB"
      },
      "source": [
        "**Exponents and logarithms**"
      ]
    },
    {
      "cell_type": "code",
      "metadata": {
        "colab": {
          "base_uri": "https://localhost:8080/"
        },
        "id": "EiNUIJbHHaNb",
        "outputId": "6b087852-b6c5-4344-d675-bb3fe8e2f717"
      },
      "source": [
        "x = [1, 2, 3]\n",
        "print(\"x =\", x)\n",
        "print(\"e^x =\", np.exp(x))\n",
        "print(\"2^x =\", np.exp2(x))\n",
        "print(\"3^x =\", np.power(3, x))"
      ],
      "execution_count": 132,
      "outputs": [
        {
          "output_type": "stream",
          "text": [
            "x = [1, 2, 3]\n",
            "e^x = [ 2.71828183  7.3890561  20.08553692]\n",
            "2^x = [2. 4. 8.]\n",
            "3^x = [ 3  9 27]\n"
          ],
          "name": "stdout"
        }
      ]
    },
    {
      "cell_type": "markdown",
      "metadata": {
        "id": "DLSpy_igHjFi"
      },
      "source": [
        "Np.log dasar memberikan logaritma natural; jika lebih suka menghitung logaritma basis 2 atau file\n",
        "basis-10 logaritma"
      ]
    },
    {
      "cell_type": "code",
      "metadata": {
        "colab": {
          "base_uri": "https://localhost:8080/"
        },
        "id": "5RJ0xJPeHl76",
        "outputId": "9445860b-0bc7-4caf-8d3d-8edf8813e442"
      },
      "source": [
        "x = [1, 2, 4, 10]\n",
        "print(\"x =\", x)\n",
        "print(\"ln(x) =\", np.log(x))\n",
        "print(\"log2(x) =\", np.log2(x))\n",
        "print(\"log10(x) =\", np.log10(x))"
      ],
      "execution_count": 133,
      "outputs": [
        {
          "output_type": "stream",
          "text": [
            "x = [1, 2, 4, 10]\n",
            "ln(x) = [0.         0.69314718 1.38629436 2.30258509]\n",
            "log2(x) = [0.         1.         2.         3.32192809]\n",
            "log10(x) = [0.         0.30103    0.60205999 1.        ]\n"
          ],
          "name": "stdout"
        }
      ]
    },
    {
      "cell_type": "code",
      "metadata": {
        "colab": {
          "base_uri": "https://localhost:8080/"
        },
        "id": "bIjxDXcXHvs3",
        "outputId": "6245b5b8-f540-4110-85fa-a0348c8688fa"
      },
      "source": [
        "#menjaga presisi dengan masukan yang sangat kecil\n",
        "x = [0, 0.001, 0.01, 0.1]\n",
        "print(\"exp(x) - 1 =\", np.expm1(x))\n",
        "print(\"log(1 + x) =\", np.log1p(x))\n"
      ],
      "execution_count": 134,
      "outputs": [
        {
          "output_type": "stream",
          "text": [
            "exp(x) - 1 = [0.         0.0010005  0.01005017 0.10517092]\n",
            "log(1 + x) = [0.         0.0009995  0.00995033 0.09531018]\n"
          ],
          "name": "stdout"
        }
      ]
    },
    {
      "cell_type": "markdown",
      "metadata": {
        "id": "Nf0fbXzpH4L8"
      },
      "source": [
        "**Specialized ufuncs**"
      ]
    },
    {
      "cell_type": "markdown",
      "metadata": {
        "id": "BryfZE4KH95F"
      },
      "source": [
        "Sumber bagus lainnya untuk ufunc yang lebih terspesialisasi dan tidak jelas adalah submodul scipy.special. Jika ingin menghitung beberapa fungsi matematika yang tidak jelas\n",
        ", kemungkinan besar diimplementasikan di scipy.special. "
      ]
    },
    {
      "cell_type": "code",
      "metadata": {
        "id": "7TKjPr40IC-c"
      },
      "source": [
        "from scipy import special"
      ],
      "execution_count": 135,
      "outputs": []
    },
    {
      "cell_type": "code",
      "metadata": {
        "colab": {
          "base_uri": "https://localhost:8080/"
        },
        "id": "MC7Co6k2IFJj",
        "outputId": "0637390a-bbbd-4962-9fb4-46c6803e7e63"
      },
      "source": [
        " # Gamma functions (generalized factorials) and related functions\n",
        " x = [1, 5, 10]\n",
        " print(\"gamma(x) =\", special.gamma(x))\n",
        " print(\"ln|gamma(x)| =\", special.gammaln(x))\n",
        " print(\"beta(x, 2) =\", special.beta(x, 2))"
      ],
      "execution_count": 136,
      "outputs": [
        {
          "output_type": "stream",
          "text": [
            "gamma(x) = [1.0000e+00 2.4000e+01 3.6288e+05]\n",
            "ln|gamma(x)| = [ 0.          3.17805383 12.80182748]\n",
            "beta(x, 2) = [0.5        0.03333333 0.00909091]\n"
          ],
          "name": "stdout"
        }
      ]
    },
    {
      "cell_type": "code",
      "metadata": {
        "colab": {
          "base_uri": "https://localhost:8080/"
        },
        "id": "s1amABgXIIpq",
        "outputId": "0094dc1b-b28c-43ec-c689-e5c7e9937b2b"
      },
      "source": [
        "# Error function (integral of Gaussian)\n",
        "# its complement, and its inverse\n",
        "x = np.array([0, 0.3, 0.7, 1.0])\n",
        "print(\"erf(x) =\", special.erf(x))\n",
        "print(\"erfc(x) =\", special.erfc(x))\n",
        "print(\"erfinv(x) =\", special.erfinv(x))\n"
      ],
      "execution_count": 138,
      "outputs": [
        {
          "output_type": "stream",
          "text": [
            "erf(x) = [0.         0.32862676 0.67780119 0.84270079]\n",
            "erfc(x) = [1.         0.67137324 0.32219881 0.15729921]\n",
            "erfinv(x) = [0.         0.27246271 0.73286908        inf]\n"
          ],
          "name": "stdout"
        }
      ]
    },
    {
      "cell_type": "markdown",
      "metadata": {
        "id": "TBHQ5qKpITuV"
      },
      "source": [
        "**d. Advanced Ufunc Features**"
      ]
    },
    {
      "cell_type": "markdown",
      "metadata": {
        "id": "xmf4SjAfIZWw"
      },
      "source": [
        "Beberapa fitus khusus ufunc"
      ]
    },
    {
      "cell_type": "markdown",
      "metadata": {
        "id": "cZ-S6DCCIcdN"
      },
      "source": [
        "**Specifying output**"
      ]
    },
    {
      "cell_type": "markdown",
      "metadata": {
        "id": "Dci0IGnGIly9"
      },
      "source": [
        "Untuk kalkulasi besar, terkadang berguna untuk dapat menentukan larik di mana hasil perhitungan akan disimpan. Daripada membuat array sementara, kita dapat menggunakan ini untuk menulis hasil komputasi langsung ke lokasi memori tempat Anda berada seperti mereka. Untuk semua ufunc, Kita bisa melakukan ini menggunakan argumen out dari\n",
        "fungsi "
      ]
    },
    {
      "cell_type": "code",
      "metadata": {
        "colab": {
          "base_uri": "https://localhost:8080/"
        },
        "id": "eXl-RV3rI0Wm",
        "outputId": "74a3a26d-92c5-41fd-9892-b389fdc9e603"
      },
      "source": [
        "x = np.arange(5)\n",
        "y = np.empty(5)\n",
        "np.multiply(x, 10, out=y)\n",
        "print(y)"
      ],
      "execution_count": 139,
      "outputs": [
        {
          "output_type": "stream",
          "text": [
            "[ 0. 10. 20. 30. 40.]\n"
          ],
          "name": "stdout"
        }
      ]
    },
    {
      "cell_type": "code",
      "metadata": {
        "colab": {
          "base_uri": "https://localhost:8080/"
        },
        "id": "_JUffZc-I4R_",
        "outputId": "c958925d-616d-4b6a-c722-d174b4e6b514"
      },
      "source": [
        "y = np.zeros(10)\n",
        "np.power(2, x, out=y[::2])\n",
        "print(y)\n"
      ],
      "execution_count": 140,
      "outputs": [
        {
          "output_type": "stream",
          "text": [
            "[ 1.  0.  2.  0.  4.  0.  8.  0. 16.  0.]\n"
          ],
          "name": "stdout"
        }
      ]
    },
    {
      "cell_type": "markdown",
      "metadata": {
        "id": "cwUWS96dI7CP"
      },
      "source": [
        "**Aggregates**\n"
      ]
    },
    {
      "cell_type": "markdown",
      "metadata": {
        "id": "CfvFfQgJJCT7"
      },
      "source": [
        "ada beberapa agregat menarik yang dapat dihitung langsung dari objek. Misalnya, jika kita ingin mengurangi array dengan operasi, kita dapat menggunakan metode pengurangan dari setiap ufunc. Sebuah pengurangan berulang kali berlaku memberikan operasi ke elemen array sampai hanya satu hasil yang tersisa. "
      ]
    },
    {
      "cell_type": "code",
      "metadata": {
        "colab": {
          "base_uri": "https://localhost:8080/"
        },
        "id": "6_R5GFLtJLi8",
        "outputId": "09fd73df-9a41-4a16-9720-40bcf2714620"
      },
      "source": [
        "#memanggil reduce pada add ufunc mengembalikan jumlah semua elemen diHimpunan\n",
        "x = np.arange(1, 6)\n",
        "np.add.reduce(x)\n"
      ],
      "execution_count": 141,
      "outputs": [
        {
          "output_type": "execute_result",
          "data": {
            "text/plain": [
              "15"
            ]
          },
          "metadata": {
            "tags": []
          },
          "execution_count": 141
        }
      ]
    },
    {
      "cell_type": "code",
      "metadata": {
        "colab": {
          "base_uri": "https://localhost:8080/"
        },
        "id": "G-xkfp6xJRbM",
        "outputId": "99239a7d-6339-4ac1-c2cc-28beb6b76185"
      },
      "source": [
        "np.multiply.reduce(x)\n"
      ],
      "execution_count": 142,
      "outputs": [
        {
          "output_type": "execute_result",
          "data": {
            "text/plain": [
              "120"
            ]
          },
          "metadata": {
            "tags": []
          },
          "execution_count": 142
        }
      ]
    },
    {
      "cell_type": "code",
      "metadata": {
        "colab": {
          "base_uri": "https://localhost:8080/"
        },
        "id": "KHylz9GkJTVY",
        "outputId": "600d3ec9-44cf-4869-b570-f8c6bce31f7c"
      },
      "source": [
        "np.add.accumulate(x)\n"
      ],
      "execution_count": 143,
      "outputs": [
        {
          "output_type": "execute_result",
          "data": {
            "text/plain": [
              "array([ 1,  3,  6, 10, 15])"
            ]
          },
          "metadata": {
            "tags": []
          },
          "execution_count": 143
        }
      ]
    },
    {
      "cell_type": "code",
      "metadata": {
        "colab": {
          "base_uri": "https://localhost:8080/"
        },
        "id": "NyL5DxvBJVyz",
        "outputId": "f71ccb09-a132-4c63-b942-9106986d397b"
      },
      "source": [
        " np.multiply.accumulate(x)"
      ],
      "execution_count": 144,
      "outputs": [
        {
          "output_type": "execute_result",
          "data": {
            "text/plain": [
              "array([  1,   2,   6,  24, 120])"
            ]
          },
          "metadata": {
            "tags": []
          },
          "execution_count": 144
        }
      ]
    },
    {
      "cell_type": "markdown",
      "metadata": {
        "id": "D0B-k1sGJYWh"
      },
      "source": [
        "**Outer products**"
      ]
    },
    {
      "cell_type": "markdown",
      "metadata": {
        "id": "Yv-6VUyEJhsw"
      },
      "source": [
        "menghitung keluaran dari semua pasangan dari dua masukan yang berbeda menggunakan metode luar. Ini memungkinkan kita, dalam satu baris, untuk melakukan hal-hal seperti membuat tabel perkalian "
      ]
    },
    {
      "cell_type": "code",
      "metadata": {
        "colab": {
          "base_uri": "https://localhost:8080/"
        },
        "id": "gvk3A8qzJlhv",
        "outputId": "f469280b-05fe-4c03-e3a4-733d986cf0dd"
      },
      "source": [
        " x = np.arange(1, 6)\n",
        " np.multiply.outer(x, x)\n"
      ],
      "execution_count": 145,
      "outputs": [
        {
          "output_type": "execute_result",
          "data": {
            "text/plain": [
              "array([[ 1,  2,  3,  4,  5],\n",
              "       [ 2,  4,  6,  8, 10],\n",
              "       [ 3,  6,  9, 12, 15],\n",
              "       [ 4,  8, 12, 16, 20],\n",
              "       [ 5, 10, 15, 20, 25]])"
            ]
          },
          "metadata": {
            "tags": []
          },
          "execution_count": 145
        }
      ]
    },
    {
      "cell_type": "markdown",
      "metadata": {
        "id": "lQtLcMj7JpoX"
      },
      "source": [
        "**e. Ufuncs: Learning More**\n"
      ]
    },
    {
      "cell_type": "markdown",
      "metadata": {
        "id": "6B9ZORa-JxdM"
      },
      "source": [
        "**4) Aggregations: Min, Max, and Everything in Between**\n"
      ]
    },
    {
      "cell_type": "markdown",
      "metadata": {
        "id": "-GAvOzyCJ6_g"
      },
      "source": [
        "Mungkin statistik ringkasan yang paling umum adalah mean dan deviasi standar, yang memungkinkan Anda meringkas nilai val‐\n",
        "ues dalam set data, tetapi agregat lain juga berguna (jumlah, produk, median,\n",
        "minimum dan maksimum, kuantil, dll.). "
      ]
    },
    {
      "cell_type": "markdown",
      "metadata": {
        "id": "BwdFw5scJ9L4"
      },
      "source": [
        "**Summing the Values in an Array**\n"
      ]
    },
    {
      "cell_type": "markdown",
      "metadata": {
        "id": "X3ZtD9NGKEod"
      },
      "source": [
        "Sebagai contoh cepat, pertimbangkan untuk menghitung jumlah semua nilai dalam array. "
      ]
    },
    {
      "cell_type": "code",
      "metadata": {
        "id": "56eQ1WZBKHhz"
      },
      "source": [
        "import numpy as np\n"
      ],
      "execution_count": 149,
      "outputs": []
    },
    {
      "cell_type": "code",
      "metadata": {
        "colab": {
          "base_uri": "https://localhost:8080/"
        },
        "id": "xqpjQVoJKLY7",
        "outputId": "78fe0add-2f82-4e57-8044-5f594c6de270"
      },
      "source": [
        "L = np.random.random(100)\n",
        "sum(L)\n"
      ],
      "execution_count": 150,
      "outputs": [
        {
          "output_type": "execute_result",
          "data": {
            "text/plain": [
              "50.617288930835684"
            ]
          },
          "metadata": {
            "tags": []
          },
          "execution_count": 150
        }
      ]
    },
    {
      "cell_type": "code",
      "metadata": {
        "colab": {
          "base_uri": "https://localhost:8080/"
        },
        "id": "PvzTowjXKQPR",
        "outputId": "de872556-51e3-4c45-cbdc-20592f63dcd0"
      },
      "source": [
        "#simplecase\n",
        "np.sum(L)\n"
      ],
      "execution_count": 151,
      "outputs": [
        {
          "output_type": "execute_result",
          "data": {
            "text/plain": [
              "50.6172889308357"
            ]
          },
          "metadata": {
            "tags": []
          },
          "execution_count": 151
        }
      ]
    },
    {
      "cell_type": "markdown",
      "metadata": {
        "id": "sV-yqcEqKa1A"
      },
      "source": [
        " karena menjalankan operasi dalam kode yang dikompilasi, versi operasi NumPy dihitung jauh lebih cepat: "
      ]
    },
    {
      "cell_type": "code",
      "metadata": {
        "colab": {
          "base_uri": "https://localhost:8080/"
        },
        "id": "pvxj759GKcHo",
        "outputId": "61277bf9-864d-42e8-efc7-598659b3e0b3"
      },
      "source": [
        " big_array = np.random.rand(1000000)\n",
        " %timeit sum(big_array)\n",
        " %timeit np.sum(big_array)\n"
      ],
      "execution_count": 152,
      "outputs": [
        {
          "output_type": "stream",
          "text": [
            "10 loops, best of 5: 170 ms per loop\n",
            "1000 loops, best of 5: 408 µs per loop\n"
          ],
          "name": "stdout"
        }
      ]
    },
    {
      "cell_type": "markdown",
      "metadata": {
        "id": "fgxWWyILKm4f"
      },
      "source": [
        "**Minimum and Maximum**\n"
      ]
    },
    {
      "cell_type": "markdown",
      "metadata": {
        "id": "C46zUZTSKuDs"
      },
      "source": [
        "fungsi min dan max bawaan, yang digunakan untuk menemukan nilai minimum dan nilai maksimum dari setiap array:"
      ]
    },
    {
      "cell_type": "code",
      "metadata": {
        "colab": {
          "base_uri": "https://localhost:8080/"
        },
        "id": "tz7dZCe6KxB8",
        "outputId": "f178ee05-9219-4da0-bbdc-73592f181683"
      },
      "source": [
        "min(big_array), max(big_array)\n"
      ],
      "execution_count": 153,
      "outputs": [
        {
          "output_type": "execute_result",
          "data": {
            "text/plain": [
              "(6.036102300210899e-07, 0.9999969605678884)"
            ]
          },
          "metadata": {
            "tags": []
          },
          "execution_count": 153
        }
      ]
    },
    {
      "cell_type": "code",
      "metadata": {
        "colab": {
          "base_uri": "https://localhost:8080/"
        },
        "id": "ePQ6s5ACKy_r",
        "outputId": "32f6d3f4-f7a9-4ed0-b9fa-9db3b708e3d5"
      },
      "source": [
        "min(big_array), max(big_array)\n"
      ],
      "execution_count": 154,
      "outputs": [
        {
          "output_type": "execute_result",
          "data": {
            "text/plain": [
              "(6.036102300210899e-07, 0.9999969605678884)"
            ]
          },
          "metadata": {
            "tags": []
          },
          "execution_count": 154
        }
      ]
    },
    {
      "cell_type": "code",
      "metadata": {
        "colab": {
          "base_uri": "https://localhost:8080/"
        },
        "id": "qn4GWatqK1f2",
        "outputId": "7171cba8-452a-4dd1-b48f-28365c31d4b2"
      },
      "source": [
        "%timeit min(big_array)\n",
        "%timeit np.min(big_array)"
      ],
      "execution_count": 155,
      "outputs": [
        {
          "output_type": "stream",
          "text": [
            "10 loops, best of 5: 103 ms per loop\n",
            "1000 loops, best of 5: 467 µs per loop\n"
          ],
          "name": "stdout"
        }
      ]
    },
    {
      "cell_type": "markdown",
      "metadata": {
        "id": "bWThyjIvK91M"
      },
      "source": [
        "Untuk min, max, sum, dan beberapa agregat NumPy lainnya, sintaks yang lebih pendek akan digunakan\n",
        "metode dari objek array itu sendiri: "
      ]
    },
    {
      "cell_type": "code",
      "metadata": {
        "colab": {
          "base_uri": "https://localhost:8080/"
        },
        "id": "lEYfqvjAK_dG",
        "outputId": "b5731738-767f-47e2-cb13-2011a3e79f7f"
      },
      "source": [
        "print(big_array.min(), big_array.max(), big_array.sum())"
      ],
      "execution_count": 156,
      "outputs": [
        {
          "output_type": "stream",
          "text": [
            "6.036102300210899e-07 0.9999969605678884 499518.71872294566\n"
          ],
          "name": "stdout"
        }
      ]
    },
    {
      "cell_type": "markdown",
      "metadata": {
        "id": "gYIMmS_iLBkW"
      },
      "source": [
        "**Multidimensional aggregates**"
      ]
    },
    {
      "cell_type": "markdown",
      "metadata": {
        "id": "ADs-hpAULIwF"
      },
      "source": [
        "Satu jenis operasi agregasi yang umum adalah agregat sepanjang baris atau kolom."
      ]
    },
    {
      "cell_type": "code",
      "metadata": {
        "colab": {
          "base_uri": "https://localhost:8080/"
        },
        "id": "HaPjWPs2LJoM",
        "outputId": "8975aacd-fd20-4034-d680-ded3df5cb83d"
      },
      "source": [
        " M = np.random.random((3, 4))\n",
        " print(M)"
      ],
      "execution_count": 157,
      "outputs": [
        {
          "output_type": "stream",
          "text": [
            "[[0.17847093 0.11357779 0.59874477 0.08731153]\n",
            " [0.74518692 0.96774691 0.2851812  0.32593843]\n",
            " [0.38510652 0.72678814 0.6428085  0.22501515]]\n"
          ],
          "name": "stdout"
        }
      ]
    },
    {
      "cell_type": "code",
      "metadata": {
        "colab": {
          "base_uri": "https://localhost:8080/"
        },
        "id": "yuOY-8dfLPZB",
        "outputId": "7cdc98cd-1b3f-46f7-ce92-5c53ecf3c2b7"
      },
      "source": [
        "#Fungsi agregasi NumPy akan mengembalikan agregat ke keseluruhan\n",
        "M.sum()\n"
      ],
      "execution_count": 158,
      "outputs": [
        {
          "output_type": "execute_result",
          "data": {
            "text/plain": [
              "5.281876772645355"
            ]
          },
          "metadata": {
            "tags": []
          },
          "execution_count": 158
        }
      ]
    },
    {
      "cell_type": "code",
      "metadata": {
        "colab": {
          "base_uri": "https://localhost:8080/"
        },
        "id": "-o59hWQrLcA-",
        "outputId": "6f6cfffb-a72c-40a2-e7a9-e948cde113ae"
      },
      "source": [
        "#Menentukan nilai minimum\n",
        "M.min(axis=0)\n"
      ],
      "execution_count": 159,
      "outputs": [
        {
          "output_type": "execute_result",
          "data": {
            "text/plain": [
              "array([0.17847093, 0.11357779, 0.2851812 , 0.08731153])"
            ]
          },
          "metadata": {
            "tags": []
          },
          "execution_count": 159
        }
      ]
    },
    {
      "cell_type": "code",
      "metadata": {
        "colab": {
          "base_uri": "https://localhost:8080/"
        },
        "id": "U3stgauCLhIb",
        "outputId": "6a73aa9d-89fd-4953-e5eb-73b4261c260e"
      },
      "source": [
        "#Menentukan nilai maksimum\n",
        "M.max(axis=1)\n"
      ],
      "execution_count": 160,
      "outputs": [
        {
          "output_type": "execute_result",
          "data": {
            "text/plain": [
              "array([0.59874477, 0.96774691, 0.72678814])"
            ]
          },
          "metadata": {
            "tags": []
          },
          "execution_count": 160
        }
      ]
    },
    {
      "cell_type": "markdown",
      "metadata": {
        "id": "PkACYoggMDHi"
      },
      "source": [
        "**5)Computation on Arrays: Broadcasting**\n"
      ]
    },
    {
      "cell_type": "markdown",
      "metadata": {
        "id": "DD1VQzojMRPD"
      },
      "source": [
        "Cara lain dari operasi vektorisasi adalah dengan menggunakan fungsi Broadcasting NumPy. Penyiaran hanyalah seperangkat aturan untuk menerapkan ufunc biner (penjumlahan,pengurangan, perkalian, dll.) Di array dengan ukuran berbeda "
      ]
    },
    {
      "cell_type": "markdown",
      "metadata": {
        "id": "oDj_OtJDMWxN"
      },
      "source": [
        "**Introducing Broadcasting**\n"
      ]
    },
    {
      "cell_type": "code",
      "metadata": {
        "id": "8-mPIfz0Mb87"
      },
      "source": [
        "import numpy as np"
      ],
      "execution_count": 162,
      "outputs": []
    },
    {
      "cell_type": "code",
      "metadata": {
        "colab": {
          "base_uri": "https://localhost:8080/"
        },
        "id": "8nn4tmCbMeIn",
        "outputId": "caf258a4-c5b0-402c-c7b0-2578bd8ba081"
      },
      "source": [
        "a = np.array([0, 1, 2])\n",
        "b = np.array([5, 5, 5])\n",
        "a + b"
      ],
      "execution_count": 163,
      "outputs": [
        {
          "output_type": "execute_result",
          "data": {
            "text/plain": [
              "array([5, 6, 7])"
            ]
          },
          "metadata": {
            "tags": []
          },
          "execution_count": 163
        }
      ]
    },
    {
      "cell_type": "code",
      "metadata": {
        "colab": {
          "base_uri": "https://localhost:8080/"
        },
        "id": "1Ov0xWucMhW0",
        "outputId": "132d8d73-b95c-466a-fa69-50baf5274714"
      },
      "source": [
        "a + 5"
      ],
      "execution_count": 164,
      "outputs": [
        {
          "output_type": "execute_result",
          "data": {
            "text/plain": [
              "array([5, 6, 7])"
            ]
          },
          "metadata": {
            "tags": []
          },
          "execution_count": 164
        }
      ]
    },
    {
      "cell_type": "markdown",
      "metadata": {
        "id": "cT3zUHBvMmDQ"
      },
      "source": [
        "Kita juga dapat memperluas ini ke array dengan dimensi yang lebih tinggi. Amati hasilnya saat kita menambahkan array satu dimensi ke array dua dimensi: "
      ]
    },
    {
      "cell_type": "code",
      "metadata": {
        "colab": {
          "base_uri": "https://localhost:8080/"
        },
        "id": "XFQdeF7KMoeb",
        "outputId": "fadaa23f-ad8f-47b6-9488-f998e721aee2"
      },
      "source": [
        "M = np.ones((3, 3))\n",
        "M"
      ],
      "execution_count": 165,
      "outputs": [
        {
          "output_type": "execute_result",
          "data": {
            "text/plain": [
              "array([[1., 1., 1.],\n",
              "       [1., 1., 1.],\n",
              "       [1., 1., 1.]])"
            ]
          },
          "metadata": {
            "tags": []
          },
          "execution_count": 165
        }
      ]
    },
    {
      "cell_type": "code",
      "metadata": {
        "colab": {
          "base_uri": "https://localhost:8080/"
        },
        "id": "hfN1iqviMrKC",
        "outputId": "88332611-260f-418c-bf06-09f1ea4b7c9d"
      },
      "source": [
        "M + a\n"
      ],
      "execution_count": 166,
      "outputs": [
        {
          "output_type": "execute_result",
          "data": {
            "text/plain": [
              "array([[1., 2., 3.],\n",
              "       [1., 2., 3.],\n",
              "       [1., 2., 3.]])"
            ]
          },
          "metadata": {
            "tags": []
          },
          "execution_count": 166
        }
      ]
    },
    {
      "cell_type": "markdown",
      "metadata": {
        "id": "4UxfVxYKMwlO"
      },
      "source": [
        "Meskipun contoh-contoh ini relatif mudah dipahami, kasus yang lebih rumit bisa melibatkan penyiaran kedua larik. Perhatikan contoh berikut: "
      ]
    },
    {
      "cell_type": "code",
      "metadata": {
        "colab": {
          "base_uri": "https://localhost:8080/"
        },
        "id": "AP0brxqRMyRj",
        "outputId": "9c4fe450-f147-40aa-e905-c8c0b029760f"
      },
      "source": [
        "a = np.arange(3)\n",
        "b = np.arange(3)[:, np.newaxis]\n",
        "print(a)\n",
        "print(b)"
      ],
      "execution_count": 167,
      "outputs": [
        {
          "output_type": "stream",
          "text": [
            "[0 1 2]\n",
            "[[0]\n",
            " [1]\n",
            " [2]]\n"
          ],
          "name": "stdout"
        }
      ]
    },
    {
      "cell_type": "code",
      "metadata": {
        "colab": {
          "base_uri": "https://localhost:8080/"
        },
        "id": "oqUNsNY_M1Gn",
        "outputId": "20719347-f82a-4614-eac4-6a23c7dc1069"
      },
      "source": [
        "a + b"
      ],
      "execution_count": 168,
      "outputs": [
        {
          "output_type": "execute_result",
          "data": {
            "text/plain": [
              "array([[0, 1, 2],\n",
              "       [1, 2, 3],\n",
              "       [2, 3, 4]])"
            ]
          },
          "metadata": {
            "tags": []
          },
          "execution_count": 168
        }
      ]
    },
    {
      "cell_type": "markdown",
      "metadata": {
        "id": "9mDmyLWpM506"
      },
      "source": [
        "**Broadcasting example 1**"
      ]
    },
    {
      "cell_type": "code",
      "metadata": {
        "id": "14Th2POrM_0m"
      },
      "source": [
        " #menambahkan array dua dimensi ke larik satu dimensi "
      ],
      "execution_count": null,
      "outputs": []
    },
    {
      "cell_type": "code",
      "metadata": {
        "id": "GUESDEynNCdE"
      },
      "source": [
        "M = np.ones((2, 3))\n",
        "a = np.arange(3)"
      ],
      "execution_count": 169,
      "outputs": []
    },
    {
      "cell_type": "code",
      "metadata": {
        "colab": {
          "base_uri": "https://localhost:8080/"
        },
        "id": "zkfn2oHQNFNC",
        "outputId": "efe442b4-4758-423d-ce58-c0420cc3a6f6"
      },
      "source": [
        " M + a"
      ],
      "execution_count": 170,
      "outputs": [
        {
          "output_type": "execute_result",
          "data": {
            "text/plain": [
              "array([[1., 2., 3.],\n",
              "       [1., 2., 3.]])"
            ]
          },
          "metadata": {
            "tags": []
          },
          "execution_count": 170
        }
      ]
    },
    {
      "cell_type": "markdown",
      "metadata": {
        "id": "vfek5s7PNIR9"
      },
      "source": [
        "**Broadcasting example 2**"
      ]
    },
    {
      "cell_type": "code",
      "metadata": {
        "id": "WQZvkP3HNN1S"
      },
      "source": [
        "#kedua array perlu disiarkan\n",
        "a = np.arange(3).reshape((3, 1))\n",
        "b = np.arange(3)\n"
      ],
      "execution_count": 171,
      "outputs": []
    },
    {
      "cell_type": "code",
      "metadata": {
        "colab": {
          "base_uri": "https://localhost:8080/"
        },
        "id": "qimRQb7TNWp9",
        "outputId": "02f07a0e-8f49-400d-9b56-3bcc31cf8156"
      },
      "source": [
        "a + b"
      ],
      "execution_count": 172,
      "outputs": [
        {
          "output_type": "execute_result",
          "data": {
            "text/plain": [
              "array([[0, 1, 2],\n",
              "       [1, 2, 3],\n",
              "       [2, 3, 4]])"
            ]
          },
          "metadata": {
            "tags": []
          },
          "execution_count": 172
        }
      ]
    },
    {
      "cell_type": "markdown",
      "metadata": {
        "id": "oDaVd_z-NdqR"
      },
      "source": [
        "**Broadcasting example 3**"
      ]
    },
    {
      "cell_type": "code",
      "metadata": {
        "id": "M5Wx7MjtNjEo"
      },
      "source": [
        "#dua array tidak compatibel\n",
        "M = np.ones((3, 2))\n",
        "a = np.arange(3)"
      ],
      "execution_count": 174,
      "outputs": []
    },
    {
      "cell_type": "code",
      "metadata": {
        "colab": {
          "base_uri": "https://localhost:8080/",
          "height": 173
        },
        "id": "Et1ExoKxNlxS",
        "outputId": "4d8a7dbe-d27d-4c8c-f557-bb1cea618ef5"
      },
      "source": [
        "M + a"
      ],
      "execution_count": 175,
      "outputs": [
        {
          "output_type": "error",
          "ename": "ValueError",
          "evalue": "ignored",
          "traceback": [
            "\u001b[0;31m---------------------------------------------------------------------------\u001b[0m",
            "\u001b[0;31mValueError\u001b[0m                                Traceback (most recent call last)",
            "\u001b[0;32m<ipython-input-175-8cac1d547906>\u001b[0m in \u001b[0;36m<module>\u001b[0;34m()\u001b[0m\n\u001b[0;32m----> 1\u001b[0;31m \u001b[0mM\u001b[0m \u001b[0;34m+\u001b[0m \u001b[0ma\u001b[0m\u001b[0;34m\u001b[0m\u001b[0;34m\u001b[0m\u001b[0m\n\u001b[0m",
            "\u001b[0;31mValueError\u001b[0m: operands could not be broadcast together with shapes (3,2) (3,) "
          ]
        }
      ]
    },
    {
      "cell_type": "markdown",
      "metadata": {
        "id": "HDVPahnuN3Fn"
      },
      "source": [
        "Jika Kita menginginkan bantalan sisi kanan, Kita dapat melakukan ini secara eksplisit dengan membentuk kembali larik (kita akan menggunakan kata kunci np.newaxis"
      ]
    },
    {
      "cell_type": "code",
      "metadata": {
        "colab": {
          "base_uri": "https://localhost:8080/"
        },
        "id": "PAqq6771N7W2",
        "outputId": "2c035a62-2f58-4a30-8aa1-9da87e6d4cca"
      },
      "source": [
        "a[:, np.newaxis].shape"
      ],
      "execution_count": 176,
      "outputs": [
        {
          "output_type": "execute_result",
          "data": {
            "text/plain": [
              "(3, 1)"
            ]
          },
          "metadata": {
            "tags": []
          },
          "execution_count": 176
        }
      ]
    },
    {
      "cell_type": "code",
      "metadata": {
        "id": "5e27dGtNN98R"
      },
      "source": [
        "a[:, np.newaxis].shape"
      ],
      "execution_count": null,
      "outputs": []
    },
    {
      "cell_type": "markdown",
      "metadata": {
        "id": "FHMyCdTzOLJJ"
      },
      "source": [
        "fungsi logaddexp (a, b),\n",
        "yang menghitung log (exp (a) + exp (b)) dengan lebih presisi daripada pendekatan naive: "
      ]
    },
    {
      "cell_type": "code",
      "metadata": {
        "colab": {
          "base_uri": "https://localhost:8080/"
        },
        "id": "BUIvhJhZOAbS",
        "outputId": "77355602-2fd2-4665-eb10-ff6d70f8324e"
      },
      "source": [
        "np.logaddexp(M, a[:, np.newaxis])\n"
      ],
      "execution_count": 177,
      "outputs": [
        {
          "output_type": "execute_result",
          "data": {
            "text/plain": [
              "array([[1.31326169, 1.31326169],\n",
              "       [1.69314718, 1.69314718],\n",
              "       [2.31326169, 2.31326169]])"
            ]
          },
          "metadata": {
            "tags": []
          },
          "execution_count": 177
        }
      ]
    },
    {
      "cell_type": "markdown",
      "metadata": {
        "id": "NT5gEEVWORr3"
      },
      "source": [
        "**Broadcasting in Practice**"
      ]
    },
    {
      "cell_type": "markdown",
      "metadata": {
        "id": "n07v_CbVOX9r"
      },
      "source": [
        "**Centering an array**\n"
      ]
    },
    {
      "cell_type": "markdown",
      "metadata": {
        "id": "VAqI-YVgOgfM"
      },
      "source": [
        "Bayangkan Anda memiliki array 10 observasi yang masing-masing terdiri dari 3 nilai. "
      ]
    },
    {
      "cell_type": "code",
      "metadata": {
        "id": "529HFzWAOerk"
      },
      "source": [
        "X = np.random.random((10, 3))\n"
      ],
      "execution_count": 178,
      "outputs": []
    },
    {
      "cell_type": "markdown",
      "metadata": {
        "id": "PoEvYKGNOmO1"
      },
      "source": [
        "Kita dapat menghitung rata-rata setiap fitur menggunakan agregat rata-rata di fitur pertama\n",
        "dimensi: "
      ]
    },
    {
      "cell_type": "code",
      "metadata": {
        "colab": {
          "base_uri": "https://localhost:8080/"
        },
        "id": "uKvbXODCOm2D",
        "outputId": "3c16bad1-4051-4b83-e8c8-c58c3d12e9d0"
      },
      "source": [
        "Xmean = X.mean(0)\n",
        "Xmean"
      ],
      "execution_count": 180,
      "outputs": [
        {
          "output_type": "execute_result",
          "data": {
            "text/plain": [
              "array([0.61292272, 0.4568651 , 0.52577016])"
            ]
          },
          "metadata": {
            "tags": []
          },
          "execution_count": 180
        }
      ]
    },
    {
      "cell_type": "markdown",
      "metadata": {
        "id": "AFOaWVmZOs6K"
      },
      "source": [
        "kita dapat memusatkan larik X dengan mengurangkan mean "
      ]
    },
    {
      "cell_type": "code",
      "metadata": {
        "id": "AWzWkvzTOuuq"
      },
      "source": [
        "X_centered = X - Xmean"
      ],
      "execution_count": 181,
      "outputs": []
    },
    {
      "cell_type": "code",
      "metadata": {
        "colab": {
          "base_uri": "https://localhost:8080/"
        },
        "id": "i5PA7tGpOyIS",
        "outputId": "811cb03e-1638-4ca2-f5dc-0e0731ef4601"
      },
      "source": [
        "#doublecheck\n",
        "X_centered.mean(0)"
      ],
      "execution_count": 182,
      "outputs": [
        {
          "output_type": "execute_result",
          "data": {
            "text/plain": [
              "array([7.77156117e-17, 5.55111512e-18, 4.44089210e-17])"
            ]
          },
          "metadata": {
            "tags": []
          },
          "execution_count": 182
        }
      ]
    },
    {
      "cell_type": "markdown",
      "metadata": {
        "id": "93w1oCPqO6jX"
      },
      "source": [
        "**Plotting a two-dimensional function**"
      ]
    },
    {
      "cell_type": "markdown",
      "metadata": {
        "id": "JQbH5VgvO_Zh"
      },
      "source": [
        "Salah satu tempat yang sangat berguna dalam penyiaran adalah menampilkan gambar berdasarkan fungsi dua dimensi. Jika kita ingin mendefinisikan fungsi z = f (x, y), penyiaran bisa\n",
        "digunakan untuk menghitung fungsi di seluruh kisi: "
      ]
    },
    {
      "cell_type": "code",
      "metadata": {
        "id": "ukiVkYyhPAx0"
      },
      "source": [
        "# x and y have 50 steps from 0 to 5\n",
        "x = np.linspace(0, 5, 50)\n",
        "y = np.linspace(0, 5, 50)[:, np.newaxis]\n",
        "z = np.sin(x) ** 10 + np.cos(10 + y * x) * np.cos(x)"
      ],
      "execution_count": 183,
      "outputs": []
    },
    {
      "cell_type": "code",
      "metadata": {
        "id": "ksDVZgh3PEwC"
      },
      "source": [
        "#gunakanmatplotlib untuk plotting array 2 dimensi\n",
        "%matplotlib inline\n",
        "import matplotlib.pyplot as plt"
      ],
      "execution_count": 184,
      "outputs": []
    },
    {
      "cell_type": "code",
      "metadata": {
        "colab": {
          "base_uri": "https://localhost:8080/",
          "height": 269
        },
        "id": "m0_Ty9zGPK0_",
        "outputId": "e4a4d149-5b8e-4bc6-b3b8-5d014a2227a6"
      },
      "source": [
        "plt.imshow(z, origin='lower', extent=[0, 5, 0, 5],cmap='viridis')\n",
        "plt.colorbar();\n"
      ],
      "execution_count": 185,
      "outputs": [
        {
          "output_type": "display_data",
          "data": {
            "image/png": "[encoded data removed]",
            "text/plain": [
              "<Figure size 432x288 with 2 Axes>"
            ]
          },
          "metadata": {
            "tags": [],
            "needs_background": "light"
          }
        }
      ]
    },
    {
      "cell_type": "markdown",
      "metadata": {
        "id": "om7ShPeyPmzj"
      },
      "source": [
        "**6) Comparisons, Masks, and Boolean Logic**"
      ]
    },
    {
      "cell_type": "markdown",
      "metadata": {
        "id": "UBWlSeQjPzUh"
      },
      "source": [
        "membahas penggunaan masks Boolean untuk memeriksa dan memanipulasi nilai\n",
        "dalam array NumPy. Masking muncul saat Anda ingin mengekstrak, memodifikasi, menghitung, atau\n",
        "jika tidak memanipulasi nilai dalam larik berdasarkan beberapa kriteria: misalnya, Anda mungkin ingin menghitung semua nilai yang lebih besar dari nilai tertentu, atau mungkin menghapus semua\n",
        "tangga yang berada di atas ambang tertentu. "
      ]
    },
    {
      "cell_type": "markdown",
      "metadata": {
        "id": "0udNIXxoQAu3"
      },
      "source": [
        "**Comparison Operators as ufuncs**\n"
      ]
    },
    {
      "cell_type": "markdown",
      "metadata": {
        "id": "E4sG9MmUQK4T"
      },
      "source": [
        "NumPy juga mengimplementasikan operator perbandingan seperti <(kurang dari) dan> (lebih besar dari) sebagai ufuncs yang bijaksana.\n",
        "Hasil dari operator perbandingan ini selalu berupa array dengan tipe data Boolean."
      ]
    },
    {
      "cell_type": "code",
      "metadata": {
        "id": "HymiFM3iQNDx"
      },
      "source": [
        " x = np.array([1, 2, 3, 4, 5])"
      ],
      "execution_count": 186,
      "outputs": []
    },
    {
      "cell_type": "code",
      "metadata": {
        "colab": {
          "base_uri": "https://localhost:8080/"
        },
        "id": "9gY8nX6XQPb-",
        "outputId": "8ead7880-a19e-4649-feff-86f2ac670834"
      },
      "source": [
        " x < 3 # less than"
      ],
      "execution_count": 187,
      "outputs": [
        {
          "output_type": "execute_result",
          "data": {
            "text/plain": [
              "array([ True,  True, False, False, False])"
            ]
          },
          "metadata": {
            "tags": []
          },
          "execution_count": 187
        }
      ]
    },
    {
      "cell_type": "code",
      "metadata": {
        "colab": {
          "base_uri": "https://localhost:8080/"
        },
        "id": "mNhGNI-VQREY",
        "outputId": "4b1b57f7-5f01-4a6e-ef47-0636a8492388"
      },
      "source": [
        "x > 3 # greater than"
      ],
      "execution_count": 188,
      "outputs": [
        {
          "output_type": "execute_result",
          "data": {
            "text/plain": [
              "array([False, False, False,  True,  True])"
            ]
          },
          "metadata": {
            "tags": []
          },
          "execution_count": 188
        }
      ]
    },
    {
      "cell_type": "code",
      "metadata": {
        "colab": {
          "base_uri": "https://localhost:8080/"
        },
        "id": "JqXN1ipzQTKQ",
        "outputId": "2e1ad784-db0c-4107-93a1-3b28ce0442cc"
      },
      "source": [
        "x <= 3 # less than or equal\n"
      ],
      "execution_count": 189,
      "outputs": [
        {
          "output_type": "execute_result",
          "data": {
            "text/plain": [
              "array([ True,  True,  True, False, False])"
            ]
          },
          "metadata": {
            "tags": []
          },
          "execution_count": 189
        }
      ]
    },
    {
      "cell_type": "code",
      "metadata": {
        "colab": {
          "base_uri": "https://localhost:8080/"
        },
        "id": "K5l1b-ppQUrE",
        "outputId": "480c613c-4c75-4e3f-c1e6-e5d7bd744749"
      },
      "source": [
        " x >= 3 # greater than or equal\n"
      ],
      "execution_count": 190,
      "outputs": [
        {
          "output_type": "execute_result",
          "data": {
            "text/plain": [
              "array([False, False,  True,  True,  True])"
            ]
          },
          "metadata": {
            "tags": []
          },
          "execution_count": 190
        }
      ]
    },
    {
      "cell_type": "code",
      "metadata": {
        "colab": {
          "base_uri": "https://localhost:8080/"
        },
        "id": "XlO575TOQWJ6",
        "outputId": "2277f164-f87f-438a-bfbc-b32dcad88bf0"
      },
      "source": [
        " x != 3 # not equal\n"
      ],
      "execution_count": 191,
      "outputs": [
        {
          "output_type": "execute_result",
          "data": {
            "text/plain": [
              "array([ True,  True, False,  True,  True])"
            ]
          },
          "metadata": {
            "tags": []
          },
          "execution_count": 191
        }
      ]
    },
    {
      "cell_type": "code",
      "metadata": {
        "colab": {
          "base_uri": "https://localhost:8080/"
        },
        "id": "hnAVi8VMQY8J",
        "outputId": "6861888e-cc87-4f66-a4bb-e1cded412239"
      },
      "source": [
        "x == 3 # equal\n"
      ],
      "execution_count": 192,
      "outputs": [
        {
          "output_type": "execute_result",
          "data": {
            "text/plain": [
              "array([False, False,  True, False, False])"
            ]
          },
          "metadata": {
            "tags": []
          },
          "execution_count": 192
        }
      ]
    },
    {
      "cell_type": "code",
      "metadata": {
        "colab": {
          "base_uri": "https://localhost:8080/"
        },
        "id": "Pw_NITqMQfjw",
        "outputId": "9826841c-3db1-4cda-c273-0a1b3ba13f30"
      },
      "source": [
        "#perbandingan elemen-demi-elemen dari dua larik,dengan ekspresi majemuk:\n",
        "(2 * x) == (x ** 2)\n"
      ],
      "execution_count": 193,
      "outputs": [
        {
          "output_type": "execute_result",
          "data": {
            "text/plain": [
              "array([False,  True, False, False, False])"
            ]
          },
          "metadata": {
            "tags": []
          },
          "execution_count": 193
        }
      ]
    },
    {
      "cell_type": "code",
      "metadata": {
        "colab": {
          "base_uri": "https://localhost:8080/"
        },
        "id": "wtmM2ZHVQpXc",
        "outputId": "2da258fd-b291-4e5c-9fe7-b9f5e6a2fd15"
      },
      "source": [
        "#contoh 2 dimensi\n",
        "rng = np.random.RandomState(0)\n",
        "x = rng.randint(10, size=(3, 4))\n",
        "x"
      ],
      "execution_count": 195,
      "outputs": [
        {
          "output_type": "execute_result",
          "data": {
            "text/plain": [
              "array([[5, 0, 3, 3],\n",
              "       [7, 9, 3, 5],\n",
              "       [2, 4, 7, 6]])"
            ]
          },
          "metadata": {
            "tags": []
          },
          "execution_count": 195
        }
      ]
    },
    {
      "cell_type": "code",
      "metadata": {
        "colab": {
          "base_uri": "https://localhost:8080/"
        },
        "id": "99uYs_pHQw0_",
        "outputId": "c2eeff4b-eb75-4f73-d0e9-1d3648f4ea5b"
      },
      "source": [
        "x < 6"
      ],
      "execution_count": 196,
      "outputs": [
        {
          "output_type": "execute_result",
          "data": {
            "text/plain": [
              "array([[ True,  True,  True,  True],\n",
              "       [False, False,  True,  True],\n",
              "       [ True,  True, False, False]])"
            ]
          },
          "metadata": {
            "tags": []
          },
          "execution_count": 196
        }
      ]
    },
    {
      "cell_type": "markdown",
      "metadata": {
        "id": "p3_Tpwk2QzK6"
      },
      "source": [
        "**Working with Boolean Arrays**"
      ]
    },
    {
      "cell_type": "code",
      "metadata": {
        "colab": {
          "base_uri": "https://localhost:8080/"
        },
        "id": "p66EAdllQ33t",
        "outputId": "346f529b-2aec-4545-90d8-ace859fca447"
      },
      "source": [
        "print(x)\n"
      ],
      "execution_count": 197,
      "outputs": [
        {
          "output_type": "stream",
          "text": [
            "[[5 0 3 3]\n",
            " [7 9 3 5]\n",
            " [2 4 7 6]]\n"
          ],
          "name": "stdout"
        }
      ]
    },
    {
      "cell_type": "markdown",
      "metadata": {
        "id": "VCQ2uuqSQ6cM"
      },
      "source": [
        "**Counting entries**"
      ]
    },
    {
      "cell_type": "code",
      "metadata": {
        "colab": {
          "base_uri": "https://localhost:8080/"
        },
        "id": "1jB_2J6_RAwj",
        "outputId": "1086f0ef-34de-43a7-f9b9-63368ca4d8fd"
      },
      "source": [
        "# Berapa banyak nilai yang kurang dari 6?\n",
        "np.count_nonzero (x <6) "
      ],
      "execution_count": 198,
      "outputs": [
        {
          "output_type": "execute_result",
          "data": {
            "text/plain": [
              "8"
            ]
          },
          "metadata": {
            "tags": []
          },
          "execution_count": 198
        }
      ]
    },
    {
      "cell_type": "code",
      "metadata": {
        "colab": {
          "base_uri": "https://localhost:8080/"
        },
        "id": "A4l9739vRE2m",
        "outputId": "7ecafbfb-004e-4676-9cfb-928da20477b0"
      },
      "source": [
        "np.sum(x < 6)\n"
      ],
      "execution_count": 199,
      "outputs": [
        {
          "output_type": "execute_result",
          "data": {
            "text/plain": [
              "8"
            ]
          },
          "metadata": {
            "tags": []
          },
          "execution_count": 199
        }
      ]
    },
    {
      "cell_type": "code",
      "metadata": {
        "colab": {
          "base_uri": "https://localhost:8080/"
        },
        "id": "4n2Z6SyFRIC2",
        "outputId": "bc227fee-ca09-4eba-a649-fafb26e00aa1"
      },
      "source": [
        "# how many values less than 6 in each row?\n",
        "np.sum(x < 6, axis=1)\n"
      ],
      "execution_count": 200,
      "outputs": [
        {
          "output_type": "execute_result",
          "data": {
            "text/plain": [
              "array([4, 2, 2])"
            ]
          },
          "metadata": {
            "tags": []
          },
          "execution_count": 200
        }
      ]
    },
    {
      "cell_type": "code",
      "metadata": {
        "colab": {
          "base_uri": "https://localhost:8080/"
        },
        "id": "VpO4ByaCRLjK",
        "outputId": "822fee2f-d637-45c7-cd1f-68394b37537d"
      },
      "source": [
        "# are there any values greater than 8?\n",
        "np.any(x > 8)"
      ],
      "execution_count": 201,
      "outputs": [
        {
          "output_type": "execute_result",
          "data": {
            "text/plain": [
              "True"
            ]
          },
          "metadata": {
            "tags": []
          },
          "execution_count": 201
        }
      ]
    },
    {
      "cell_type": "code",
      "metadata": {
        "colab": {
          "base_uri": "https://localhost:8080/"
        },
        "id": "V2E_1XSwROG9",
        "outputId": "939cd4c2-5414-4012-9363-c496d1b70861"
      },
      "source": [
        "#are there any values less than zero?\n",
        "np.any(x < 0)\n"
      ],
      "execution_count": 202,
      "outputs": [
        {
          "output_type": "execute_result",
          "data": {
            "text/plain": [
              "False"
            ]
          },
          "metadata": {
            "tags": []
          },
          "execution_count": 202
        }
      ]
    },
    {
      "cell_type": "code",
      "metadata": {
        "colab": {
          "base_uri": "https://localhost:8080/"
        },
        "id": "X8Ll2rjvRQPo",
        "outputId": "4486a91c-864d-41d7-a665-ef63b2e0461e"
      },
      "source": [
        "# are all values less than 10?\n",
        "np.all(x < 10)"
      ],
      "execution_count": 203,
      "outputs": [
        {
          "output_type": "execute_result",
          "data": {
            "text/plain": [
              "True"
            ]
          },
          "metadata": {
            "tags": []
          },
          "execution_count": 203
        }
      ]
    },
    {
      "cell_type": "code",
      "metadata": {
        "colab": {
          "base_uri": "https://localhost:8080/"
        },
        "id": "WIjeuDuGRTiz",
        "outputId": "a4e68f08-7201-4107-daa2-50d8b5b6033d"
      },
      "source": [
        "# are all values equal to 6?\n",
        "np.all(x == 6)\n"
      ],
      "execution_count": 204,
      "outputs": [
        {
          "output_type": "execute_result",
          "data": {
            "text/plain": [
              "False"
            ]
          },
          "metadata": {
            "tags": []
          },
          "execution_count": 204
        }
      ]
    },
    {
      "cell_type": "markdown",
      "metadata": {
        "id": "Spw62sUmRY0p"
      },
      "source": [
        "np.all () dan np.any () dapat digunakan sepanjang sumbu tertentu juga. Sebagai contoh "
      ]
    },
    {
      "cell_type": "code",
      "metadata": {
        "colab": {
          "base_uri": "https://localhost:8080/"
        },
        "id": "zxwLLFMPRZfc",
        "outputId": "04d4db8e-5c8b-4f02-c603-0a1e4dbb1365"
      },
      "source": [
        "# are all values in each row less than 8?\n",
        "np.all(x < 8, axis=1)\n"
      ],
      "execution_count": 205,
      "outputs": [
        {
          "output_type": "execute_result",
          "data": {
            "text/plain": [
              "array([ True, False,  True])"
            ]
          },
          "metadata": {
            "tags": []
          },
          "execution_count": 205
        }
      ]
    },
    {
      "cell_type": "markdown",
      "metadata": {
        "id": "j_VjKXMCSVOg"
      },
      "source": [
        "**Boolean Arrays as Masks**\n"
      ]
    },
    {
      "cell_type": "markdown",
      "metadata": {
        "id": "njMnWjCxSfju"
      },
      "source": [
        "Di bagian sebelumnya, kita melihat agregat yang dihitung langsung di Boolean array. Pola yang lebih efektif adalah dengan menggunakan array Boolean sebagai pelindung, untuk memilih tertentu subset dari data itu sendiri. Kembali ke larik x kita dari sebelumnya, misalkan kita\n",
        "menginginkan array dari semua nilai dalam array yang kurang dari, katakanlah, 5: "
      ]
    },
    {
      "cell_type": "code",
      "metadata": {
        "colab": {
          "base_uri": "https://localhost:8080/"
        },
        "id": "KMqm1YM3SjGK",
        "outputId": "d1105463-f3fa-4de2-9ddb-9cddfbc272fb"
      },
      "source": [
        "x"
      ],
      "execution_count": 209,
      "outputs": [
        {
          "output_type": "execute_result",
          "data": {
            "text/plain": [
              "array([[5, 0, 3, 3],\n",
              "       [7, 9, 3, 5],\n",
              "       [2, 4, 7, 6]])"
            ]
          },
          "metadata": {
            "tags": []
          },
          "execution_count": 209
        }
      ]
    },
    {
      "cell_type": "code",
      "metadata": {
        "colab": {
          "base_uri": "https://localhost:8080/"
        },
        "id": "C_5YiTlSSlZ3",
        "outputId": "67209c29-42bd-4fbd-d834-72558e3f9161"
      },
      "source": [
        "x < 5"
      ],
      "execution_count": 210,
      "outputs": [
        {
          "output_type": "execute_result",
          "data": {
            "text/plain": [
              "array([[False,  True,  True,  True],\n",
              "       [False, False,  True, False],\n",
              "       [ True,  True, False, False]])"
            ]
          },
          "metadata": {
            "tags": []
          },
          "execution_count": 210
        }
      ]
    },
    {
      "cell_type": "markdown",
      "metadata": {
        "id": "0zgZ_FmqSrNL"
      },
      "source": [
        "Sekarang untuk memilih nilai-nilai ini dari larik, kita cukup mengindeks pada array Boolean ini; ini dikenal sebagai operasi masking: "
      ]
    },
    {
      "cell_type": "code",
      "metadata": {
        "colab": {
          "base_uri": "https://localhost:8080/"
        },
        "id": "0HlLqDSLSvBE",
        "outputId": "b179e29a-fd11-4fa0-8243-52c5ce470b19"
      },
      "source": [
        "x[x < 5]"
      ],
      "execution_count": 211,
      "outputs": [
        {
          "output_type": "execute_result",
          "data": {
            "text/plain": [
              "array([0, 3, 3, 3, 2, 4])"
            ]
          },
          "metadata": {
            "tags": []
          },
          "execution_count": 211
        }
      ]
    },
    {
      "cell_type": "markdown",
      "metadata": {
        "id": "Uq6IiIBTS32G"
      },
      "source": [
        "**7) Fancy Indexing**\n"
      ]
    },
    {
      "cell_type": "markdown",
      "metadata": {
        "id": "wa56QtmdS_AQ"
      },
      "source": [
        "**a. Exploring Fancy Indexing**"
      ]
    },
    {
      "cell_type": "markdown",
      "metadata": {
        "id": "2ZqQVjdGTGks"
      },
      "source": [
        "Fancy indexing secara konseptual sederhana: ini berarti meneruskan serangkaian indeks untuk diakses\n",
        "beberapa elemen array sekaligus. Misalnya, perhatikan array berikut "
      ]
    },
    {
      "cell_type": "code",
      "metadata": {
        "colab": {
          "base_uri": "https://localhost:8080/"
        },
        "id": "U2splGJ0TLFi",
        "outputId": "21afb466-d3f6-4617-8999-5817336c6a77"
      },
      "source": [
        "import numpy as np\n",
        "rand = np.random.RandomState(42)\n",
        "x = rand.randint(100, size=10)\n",
        "print(x)\n"
      ],
      "execution_count": 212,
      "outputs": [
        {
          "output_type": "stream",
          "text": [
            "[51 92 14 71 60 20 82 86 74 74]\n"
          ],
          "name": "stdout"
        }
      ]
    },
    {
      "cell_type": "code",
      "metadata": {
        "colab": {
          "base_uri": "https://localhost:8080/"
        },
        "id": "aFp8O1oTTRLm",
        "outputId": "ef708362-0f5c-486b-b7c2-9323d782e5af"
      },
      "source": [
        "#kita ingin mengakses tiga elemen berbeda\n",
        "[x[3], x[7], x[2]]\n"
      ],
      "execution_count": 213,
      "outputs": [
        {
          "output_type": "execute_result",
          "data": {
            "text/plain": [
              "[71, 86, 14]"
            ]
          },
          "metadata": {
            "tags": []
          },
          "execution_count": 213
        }
      ]
    },
    {
      "cell_type": "code",
      "metadata": {
        "colab": {
          "base_uri": "https://localhost:8080/"
        },
        "id": "2ibxm_39TWts",
        "outputId": "d448173f-8ca3-4ea6-ca6f-f3f6d8ef2f46"
      },
      "source": [
        "# melewatkan satu daftar atau larik indeks untuk mendapatkan hasil yang sama \n",
        "ind = [3, 7, 4]\n",
        "x[ind]"
      ],
      "execution_count": 214,
      "outputs": [
        {
          "output_type": "execute_result",
          "data": {
            "text/plain": [
              "array([71, 86, 60])"
            ]
          },
          "metadata": {
            "tags": []
          },
          "execution_count": 214
        }
      ]
    },
    {
      "cell_type": "markdown",
      "metadata": {
        "id": "yEbtMfOlTiDt"
      },
      "source": [
        "Dengan fancy indexing, bentuk hasil mencerminkan bentuk array indeks\n",
        "daripada bentuk larik yang diindeks: "
      ]
    },
    {
      "cell_type": "code",
      "metadata": {
        "colab": {
          "base_uri": "https://localhost:8080/"
        },
        "id": "FNWQaZPXTlaW",
        "outputId": "2a35736e-3c9e-42b3-f329-a9cdad702b6b"
      },
      "source": [
        "ind = np.array([[3, 7],\n",
        "[4, 5]])\n",
        "x[ind]"
      ],
      "execution_count": 215,
      "outputs": [
        {
          "output_type": "execute_result",
          "data": {
            "text/plain": [
              "array([[71, 86],\n",
              "       [60, 20]])"
            ]
          },
          "metadata": {
            "tags": []
          },
          "execution_count": 215
        }
      ]
    },
    {
      "cell_type": "code",
      "metadata": {
        "colab": {
          "base_uri": "https://localhost:8080/"
        },
        "id": "Gq-YAnmaTpsY",
        "outputId": "ae152916-e8fc-4b80-bdb2-0c703cd80102"
      },
      "source": [
        "#fancy indexing pada array multi dimension\n",
        "X = np.arange(12).reshape((3, 4))\n",
        "X"
      ],
      "execution_count": 216,
      "outputs": [
        {
          "output_type": "execute_result",
          "data": {
            "text/plain": [
              "array([[ 0,  1,  2,  3],\n",
              "       [ 4,  5,  6,  7],\n",
              "       [ 8,  9, 10, 11]])"
            ]
          },
          "metadata": {
            "tags": []
          },
          "execution_count": 216
        }
      ]
    },
    {
      "cell_type": "code",
      "metadata": {
        "colab": {
          "base_uri": "https://localhost:8080/"
        },
        "id": "p1sTA-gZT1cb",
        "outputId": "4843b8b1-84ab-4677-d4e4-e240cd759b17"
      },
      "source": [
        "#Seperti pengindeksan standar, indeks pertama mengacu pada baris, dan yang kedua mengacu pada kolom\n",
        "row = np.array([0, 1, 2])\n",
        "col = np.array([2, 1, 3])\n",
        "X[row, col]\n"
      ],
      "execution_count": 217,
      "outputs": [
        {
          "output_type": "execute_result",
          "data": {
            "text/plain": [
              "array([ 2,  5, 11])"
            ]
          },
          "metadata": {
            "tags": []
          },
          "execution_count": 217
        }
      ]
    },
    {
      "cell_type": "markdown",
      "metadata": {
        "id": "pPxH5UpYUHkm"
      },
      "source": [
        "jika kita menggabungkan vektor kolom dan vektor baris dalam indeks, kita\n",
        "dapatkan hasil dua dimensi "
      ]
    },
    {
      "cell_type": "code",
      "metadata": {
        "colab": {
          "base_uri": "https://localhost:8080/"
        },
        "id": "pKnY6iFMUJBJ",
        "outputId": "35958aa0-14b9-44e6-8491-524944a2ee83"
      },
      "source": [
        "X[row[:, np.newaxis], col]\n"
      ],
      "execution_count": 218,
      "outputs": [
        {
          "output_type": "execute_result",
          "data": {
            "text/plain": [
              "array([[ 2,  1,  3],\n",
              "       [ 6,  5,  7],\n",
              "       [10,  9, 11]])"
            ]
          },
          "metadata": {
            "tags": []
          },
          "execution_count": 218
        }
      ]
    },
    {
      "cell_type": "markdown",
      "metadata": {
        "id": "CLZZkSAJUPLZ"
      },
      "source": [
        "Di sini, setiap nilai baris dicocokkan dengan setiap vektor kolom, persis seperti yang kita lihat di\n",
        "pengecoran operasi aritmatika. Sebagai contoh: "
      ]
    },
    {
      "cell_type": "code",
      "metadata": {
        "colab": {
          "base_uri": "https://localhost:8080/"
        },
        "id": "pa_mfafmURZ0",
        "outputId": "2ea4ec44-1455-40cd-aa09-452c4b93b56e"
      },
      "source": [
        "row[:, np.newaxis] * col\n"
      ],
      "execution_count": 219,
      "outputs": [
        {
          "output_type": "execute_result",
          "data": {
            "text/plain": [
              "array([[0, 0, 0],\n",
              "       [2, 1, 3],\n",
              "       [4, 2, 6]])"
            ]
          },
          "metadata": {
            "tags": []
          },
          "execution_count": 219
        }
      ]
    },
    {
      "cell_type": "markdown",
      "metadata": {
        "id": "5Oj80elwUUhv"
      },
      "source": [
        "**b. Combined Indexing**"
      ]
    },
    {
      "cell_type": "markdown",
      "metadata": {
        "id": "PKNRqvp6UaPt"
      },
      "source": [
        "Untuk operasi yang lebih bertenaga, fancy indexing dapat digabungkan dengan skema yang lain"
      ]
    },
    {
      "cell_type": "code",
      "metadata": {
        "colab": {
          "base_uri": "https://localhost:8080/"
        },
        "id": "8ju3J-W8UiCE",
        "outputId": "6e075dbb-4ba3-4337-e7e9-6f5b8bbac551"
      },
      "source": [
        "print(X)"
      ],
      "execution_count": 220,
      "outputs": [
        {
          "output_type": "stream",
          "text": [
            "[[ 0  1  2  3]\n",
            " [ 4  5  6  7]\n",
            " [ 8  9 10 11]]\n"
          ],
          "name": "stdout"
        }
      ]
    },
    {
      "cell_type": "code",
      "metadata": {
        "colab": {
          "base_uri": "https://localhost:8080/"
        },
        "id": "Q21SRuwGUk3l",
        "outputId": "4bf847a7-f8be-4ab2-8b76-1fee133fa1a5"
      },
      "source": [
        "#combine fancy and simple indices:\n",
        "X[2, [2, 0, 1]]"
      ],
      "execution_count": 221,
      "outputs": [
        {
          "output_type": "execute_result",
          "data": {
            "text/plain": [
              "array([10,  8,  9])"
            ]
          },
          "metadata": {
            "tags": []
          },
          "execution_count": 221
        }
      ]
    },
    {
      "cell_type": "code",
      "metadata": {
        "colab": {
          "base_uri": "https://localhost:8080/"
        },
        "id": "9_tGAaW0UpX-",
        "outputId": "181e2cc9-219d-466c-d9c0-b45c431513ce"
      },
      "source": [
        "# combine fancy indexing with slicing\n",
        "X[1:, [2, 0, 1]]"
      ],
      "execution_count": 222,
      "outputs": [
        {
          "output_type": "execute_result",
          "data": {
            "text/plain": [
              "array([[ 6,  4,  5],\n",
              "       [10,  8,  9]])"
            ]
          },
          "metadata": {
            "tags": []
          },
          "execution_count": 222
        }
      ]
    },
    {
      "cell_type": "code",
      "metadata": {
        "colab": {
          "base_uri": "https://localhost:8080/"
        },
        "id": "n6M6ocp7UtiK",
        "outputId": "19ac90c5-9ce4-48ca-ccc2-5a7ea4a47cc8"
      },
      "source": [
        "# combine fancy indexing with masking\n",
        "mask = np.array([1, 0, 1, 0], dtype=bool)\n",
        "X[row[:, np.newaxis], mask]\n"
      ],
      "execution_count": 223,
      "outputs": [
        {
          "output_type": "execute_result",
          "data": {
            "text/plain": [
              "array([[ 0,  2],\n",
              "       [ 4,  6],\n",
              "       [ 8, 10]])"
            ]
          },
          "metadata": {
            "tags": []
          },
          "execution_count": 223
        }
      ]
    },
    {
      "cell_type": "markdown",
      "metadata": {
        "id": "izRJ0shnUzrO"
      },
      "source": [
        "**c. Example: Selecting Random Points**\n"
      ]
    },
    {
      "cell_type": "markdown",
      "metadata": {
        "id": "VT65Kg6YU6AV"
      },
      "source": [
        "Salah satu penggunaan umum fancy indexing adalah pemilihan subset baris dari matriks.\n",
        "Misalnya, kita mungkin memiliki matriks N kali D yang mewakili titik N di D dimension, seperti poin berikut yang diambil dari distribusi normal dua dimensi: "
      ]
    },
    {
      "cell_type": "code",
      "metadata": {
        "colab": {
          "base_uri": "https://localhost:8080/"
        },
        "id": "LClqqvUUU_T-",
        "outputId": "8666d239-5b99-47bc-d34c-ba9ed1335f6d"
      },
      "source": [
        "mean = [0, 0]\n",
        "cov = [[1, 2],[2, 5]]\n",
        "X = rand.multivariate_normal(mean, cov, 100)\n",
        "X.shape\n"
      ],
      "execution_count": 224,
      "outputs": [
        {
          "output_type": "execute_result",
          "data": {
            "text/plain": [
              "(100, 2)"
            ]
          },
          "metadata": {
            "tags": []
          },
          "execution_count": 224
        }
      ]
    },
    {
      "cell_type": "code",
      "metadata": {
        "colab": {
          "base_uri": "https://localhost:8080/",
          "height": 268
        },
        "id": "mJj2pKdDVFJa",
        "outputId": "bccf8653-c73d-4181-c014-760026fd62ea"
      },
      "source": [
        "#use plotting tools\n",
        "%matplotlib inline\n",
        "import matplotlib.pyplot as plt\n",
        "import seaborn; seaborn.set() # for plot styling\n",
        "plt.scatter(X[:, 0], X[:, 1]);\n"
      ],
      "execution_count": 225,
      "outputs": [
        {
          "output_type": "display_data",
          "data": {
            "image/png": "[encoded data removed]",
            "text/plain": [
              "<Figure size 432x288 with 1 Axes>"
            ]
          },
          "metadata": {
            "tags": []
          }
        }
      ]
    },
    {
      "cell_type": "markdown",
      "metadata": {
        "id": "McaPzBXDVTBl"
      },
      "source": [
        "**d. Modifying Values with Fancy Indexing**"
      ]
    },
    {
      "cell_type": "markdown",
      "metadata": {
        "id": "w11GFy9KVY6D"
      },
      "source": [
        "memodifikasi bagian dari sebuah larik. Misalnya, bayangkan kita memiliki serangkaian indeks dan kita akan melakukannya ingin mengatur item yang sesuai dalam array ke beberapa nilai: "
      ]
    },
    {
      "cell_type": "code",
      "metadata": {
        "colab": {
          "base_uri": "https://localhost:8080/"
        },
        "id": "O4WvRQcyVeUN",
        "outputId": "78424806-85b2-4e58-93fe-2ae9134734b5"
      },
      "source": [
        "x = np.arange(10)\n",
        "i = np.array([2, 1, 8, 4])\n",
        "x[i] = 99\n",
        "print(x)\n"
      ],
      "execution_count": 226,
      "outputs": [
        {
          "output_type": "stream",
          "text": [
            "[ 0 99 99  3 99  5  6  7 99  9]\n"
          ],
          "name": "stdout"
        }
      ]
    },
    {
      "cell_type": "code",
      "metadata": {
        "colab": {
          "base_uri": "https://localhost:8080/"
        },
        "id": "CIy50vxjVibs",
        "outputId": "48614fa8-56e8-4a32-a6cf-80be0494c66e"
      },
      "source": [
        "# use any assignment-type operator for this\n",
        "x[i] -= 10\n",
        "print(x)"
      ],
      "execution_count": 227,
      "outputs": [
        {
          "output_type": "stream",
          "text": [
            "[ 0 89 89  3 89  5  6  7 89  9]\n"
          ],
          "name": "stdout"
        }
      ]
    },
    {
      "cell_type": "markdown",
      "metadata": {
        "id": "FEC01AKVVpRj"
      },
      "source": [
        "bahwa indeks berulang dengan operasi ini dapat menyebabkan beberapa potensi\n",
        "hasil yang sangat tidak terduga. Pertimbangkan hal-hal berikut ini: "
      ]
    },
    {
      "cell_type": "code",
      "metadata": {
        "colab": {
          "base_uri": "https://localhost:8080/"
        },
        "id": "SSzmqCekVq94",
        "outputId": "52348ac4-ac25-4e4f-98b2-f766e2c9a050"
      },
      "source": [
        "x = np.zeros(10)\n",
        "x[[0, 0]] = [4, 6]\n",
        "print(x)\n"
      ],
      "execution_count": 228,
      "outputs": [
        {
          "output_type": "stream",
          "text": [
            "[6. 0. 0. 0. 0. 0. 0. 0. 0. 0.]\n"
          ],
          "name": "stdout"
        }
      ]
    },
    {
      "cell_type": "code",
      "metadata": {
        "colab": {
          "base_uri": "https://localhost:8080/"
        },
        "id": "ufMudg9LVw-a",
        "outputId": "5a687a5d-c2bd-461c-b52f-37cd70428b87"
      },
      "source": [
        "#pertimbangkan operasi ini\n",
        "i = [2, 3, 3, 4, 4, 4]\n",
        "x[i] += 1\n",
        "x"
      ],
      "execution_count": 229,
      "outputs": [
        {
          "output_type": "execute_result",
          "data": {
            "text/plain": [
              "array([6., 0., 1., 1., 1., 0., 0., 0., 0., 0.])"
            ]
          },
          "metadata": {
            "tags": []
          },
          "execution_count": 229
        }
      ]
    },
    {
      "cell_type": "markdown",
      "metadata": {
        "id": "8hdAQKcVV6tK"
      },
      "source": [
        "Dengan ini\n",
        "pikiran, bukan augmentasi yang terjadi beberapa kali, tetapi penugasan,\n",
        "yang mengarah ke hasil yang agak nonintuitif. "
      ]
    },
    {
      "cell_type": "markdown",
      "metadata": {
        "id": "SEnKeI2oWAh4"
      },
      "source": [
        "Jadi bagaimana jika Anda menginginkan perilaku lain di mana operasi diulang? Untuk ini, kamu\n",
        "dapat menggunakan metode at () dari ufuncs (tersedia sejak NumPy 1.8), dan melakukan hal berikut "
      ]
    },
    {
      "cell_type": "code",
      "metadata": {
        "colab": {
          "base_uri": "https://localhost:8080/"
        },
        "id": "kVbu77DhWC7A",
        "outputId": "22f1b8be-e418-4449-d0bc-002a646adcfa"
      },
      "source": [
        " x = np.zeros(10)\n",
        " np.add.at(x, i, 1)\n",
        " print(x)"
      ],
      "execution_count": 230,
      "outputs": [
        {
          "output_type": "stream",
          "text": [
            "[0. 0. 1. 2. 3. 0. 0. 0. 0. 0.]\n"
          ],
          "name": "stdout"
        }
      ]
    },
    {
      "cell_type": "markdown",
      "metadata": {
        "id": "Vn3RzevdWLLZ"
      },
      "source": [
        "**e. Example: Binning Data**\n"
      ]
    },
    {
      "cell_type": "markdown",
      "metadata": {
        "id": "UwSSdoaYWTQz"
      },
      "source": [
        "Anda dapat menggunakan ide-ide ini untuk mengumpulkan data secara efisien untuk membuat histogram dengan tangan. Untuk\n",
        "Misalnya, bayangkan kita memiliki 1.000 nilai dan ingin segera menemukan di mana nilainya jatuh\n",
        "dalam susunan tempat sampah. Kita bisa menghitungnya menggunakan ufunc.at seperti ini: "
      ]
    },
    {
      "cell_type": "code",
      "metadata": {
        "id": "H7ZjXWS5WTCH"
      },
      "source": [
        "np.random.seed(42)\n",
        "x = np.random.randn(100)\n",
        "# compute a histogram by hand\n",
        "bins = np.linspace(-5, 5, 20)\n",
        "counts = np.zeros_like(bins)\n",
        "# find the appropriate bin for each x\n",
        "i = np.searchsorted(bins, x)\n",
        "# add 1 to each of these bins\n",
        "np.add.at(counts, i, 1)\n"
      ],
      "execution_count": 231,
      "outputs": []
    },
    {
      "cell_type": "code",
      "metadata": {
        "colab": {
          "base_uri": "https://localhost:8080/",
          "height": 325
        },
        "id": "6c14hdBJWcsf",
        "outputId": "9ded3d34-47b7-4844-d391-cf1dc5b02764"
      },
      "source": [
        "# plot the results\n",
        "plt.plot(bins, counts, linestyle='steps');"
      ],
      "execution_count": 232,
      "outputs": [
        {
          "output_type": "stream",
          "text": [
            "/usr/local/lib/python3.7/dist-packages/ipykernel_launcher.py:2: MatplotlibDeprecationWarning: Passing the drawstyle with the linestyle as a single string is deprecated since Matplotlib 3.1 and support will be removed in 3.3; please pass the drawstyle separately using the drawstyle keyword argument to Line2D or set_drawstyle() method (or ds/set_ds()).\n",
            "  \n"
          ],
          "name": "stderr"
        },
        {
          "output_type": "display_data",
          "data": {
            "image/png": "[encoded data removed]",
            "text/plain": [
              "<Figure size 432x288 with 1 Axes>"
            ]
          },
          "metadata": {
            "tags": []
          }
        }
      ]
    },
    {
      "cell_type": "markdown",
      "metadata": {
        "id": "veHMjkpJWnNn"
      },
      "source": [
        "Matplotlib menyediakan rutin plt.hist (), yang melakukan hal yang sama di a\n",
        "garis tunggal: "
      ]
    },
    {
      "cell_type": "code",
      "metadata": {
        "colab": {
          "base_uri": "https://localhost:8080/",
          "height": 268
        },
        "id": "GE8VDfraWnvC",
        "outputId": "2f13e05c-ae28-4e3d-e276-ae2534f58b2a"
      },
      "source": [
        "plt.hist(x, bins, histtype='step');\n"
      ],
      "execution_count": 233,
      "outputs": [
        {
          "output_type": "display_data",
          "data": {
            "image/png": "[encoded data removed]",
            "text/plain": [
              "<Figure size 432x288 with 1 Axes>"
            ]
          },
          "metadata": {
            "tags": []
          }
        }
      ]
    },
    {
      "cell_type": "markdown",
      "metadata": {
        "id": "_ZM3p7O4Wt2N"
      },
      "source": [
        "Fungsi ini akan membuat plot yang hampir identik dengan yang terlihat di sini. Untuk menghitung\n",
        "binning, Matplotlib menggunakan fungsi np.histogram, yang melakukan\n",
        "putation untuk apa yang kami lakukan sebelumnya. Mari bandingkan keduanya di sini: "
      ]
    },
    {
      "cell_type": "code",
      "metadata": {
        "colab": {
          "base_uri": "https://localhost:8080/"
        },
        "id": "zP1oPbQDWukj",
        "outputId": "acb1acfb-f2f6-4c2a-f0a1-c57f5ebf9e81"
      },
      "source": [
        "print(\"NumPy routine:\")\n",
        "%timeit counts, edges = np.histogram(x, bins)\n",
        "print(\"Custom routine:\")\n",
        "%timeit np.add.at(counts, np.searchsorted(bins, x), 1)"
      ],
      "execution_count": 234,
      "outputs": [
        {
          "output_type": "stream",
          "text": [
            "NumPy routine:\n",
            "The slowest run took 7.26 times longer than the fastest. This could mean that an intermediate result is being cached.\n",
            "10000 loops, best of 5: 31.3 µs per loop\n",
            "Custom routine:\n",
            "The slowest run took 4.41 times longer than the fastest. This could mean that an intermediate result is being cached.\n",
            "100000 loops, best of 5: 15.5 µs per loop\n"
          ],
          "name": "stdout"
        }
      ]
    },
    {
      "cell_type": "markdown",
      "metadata": {
        "id": "3SiOPCx5XDAW"
      },
      "source": [
        "\n",
        "Algoritme satu baris kami sendiri beberapa kali lebih cepat daripada algoritme yang dioptimalkan di\n",
        "NumPy! Bagaimana ini bisa terjadi? Jika Anda menggali kode sumber np.histogram (Anda bisa melakukannya\n",
        "ini di IPython dengan mengetikkan np.histogram ??), Anda akan melihat bahwa itu lebih dari itu\n",
        "terlibat daripada penelusuran dan hitung sederhana yang telah kami lakukan; ini karena NumPy's\n",
        "Algoritme lebih fleksibel, dan terutama dirancang untuk kinerja yang lebih baik saat\n",
        "jumlah titik data menjadi besar: "
      ]
    },
    {
      "cell_type": "code",
      "metadata": {
        "colab": {
          "base_uri": "https://localhost:8080/"
        },
        "id": "2QI5gwGhXNNZ",
        "outputId": "1be3e98d-7fbb-4ca5-ee35-a7f7d1d63555"
      },
      "source": [
        "x = np.random.randn(1000000)\n",
        "print(\"NumPy routine:\")\n",
        "%timeit counts, edges = np.histogram(x, bins)\n",
        "print(\"Custom routine:\")\n",
        "%timeit np.add.at(counts, np.searchsorted(bins, x), 1)"
      ],
      "execution_count": 235,
      "outputs": [
        {
          "output_type": "stream",
          "text": [
            "NumPy routine:\n",
            "10 loops, best of 5: 88.6 ms per loop\n",
            "Custom routine:\n",
            "10 loops, best of 5: 126 ms per loop\n"
          ],
          "name": "stdout"
        }
      ]
    },
    {
      "cell_type": "markdown",
      "metadata": {
        "id": "8EZoknpWXWSp"
      },
      "source": [
        "**8)Sorting Arrays**\n"
      ]
    },
    {
      "cell_type": "markdown",
      "metadata": {
        "id": "0GVmjJ6KXeY3"
      },
      "source": [
        "membahas algoritme yang terkait dengan pengurutan nilai dalam\n",
        "Array NumPy. Misalnya, urutan pemilihan sederhana berulang kali menemukan nilai minimum dari daftar,\n",
        "dan melakukan swap hingga daftar diurutkan. Kita dapat mengkodekan ini hanya dalam beberapa baris Python: "
      ]
    },
    {
      "cell_type": "code",
      "metadata": {
        "id": "mDB4f0gnXmHb"
      },
      "source": [
        "import numpy as np\n",
        "def selection_sort(x):\n",
        "  for i in range(len(x)):\n",
        "    swap = i + np.argmin(x[i:])\n",
        "    (x[i], x[swap]) = (x[swap], x[i])\n",
        "  return x"
      ],
      "execution_count": 236,
      "outputs": []
    },
    {
      "cell_type": "code",
      "metadata": {
        "colab": {
          "base_uri": "https://localhost:8080/"
        },
        "id": "4OxVY8Q5Xufq",
        "outputId": "d8d59c28-4a0b-4af0-fea0-433e201f005d"
      },
      "source": [
        "x = np.array([2, 1, 4, 3, 5])\n",
        "selection_sort(x)"
      ],
      "execution_count": 237,
      "outputs": [
        {
          "output_type": "execute_result",
          "data": {
            "text/plain": [
              "array([1, 2, 3, 4, 5])"
            ]
          },
          "metadata": {
            "tags": []
          },
          "execution_count": 237
        }
      ]
    },
    {
      "cell_type": "markdown",
      "metadata": {
        "id": "v9YFof4CX1v3"
      },
      "source": [
        "Bahkan selection sort, bagaimanapun, jauh lebih baik daripada algoritma pengurutan favorit sepanjang masa, bogosort: "
      ]
    },
    {
      "cell_type": "code",
      "metadata": {
        "id": "MlrieKeSYE0D"
      },
      "source": [
        "def bogosort(x):\n",
        "  while np.any(x[:-1] > x[1:]):\n",
        "    np.random.shuffle(x)\n",
        "    return x"
      ],
      "execution_count": 239,
      "outputs": []
    },
    {
      "cell_type": "code",
      "metadata": {
        "colab": {
          "base_uri": "https://localhost:8080/"
        },
        "id": "TVPYsSO0YPao",
        "outputId": "01f96f9d-7816-4863-91e1-54222634f12c"
      },
      "source": [
        "x = np.array([2, 1, 4, 3, 5])\n",
        "bogosort(x)\n"
      ],
      "execution_count": 240,
      "outputs": [
        {
          "output_type": "execute_result",
          "data": {
            "text/plain": [
              "array([2, 4, 3, 1, 5])"
            ]
          },
          "metadata": {
            "tags": []
          },
          "execution_count": 240
        }
      ]
    },
    {
      "cell_type": "markdown",
      "metadata": {
        "id": "cAoyU0zNYTPs"
      },
      "source": [
        "**a. Fast Sorting in NumPy: np.sort and np.argsort**"
      ]
    },
    {
      "cell_type": "markdown",
      "metadata": {
        "id": "JFeTEVvPYiF3"
      },
      "source": [
        "Untuk mengembalikan versi larik yang diurutkan tanpa mengubah input, Anda dapat menggunakan\n",
        "np.sort: "
      ]
    },
    {
      "cell_type": "code",
      "metadata": {
        "colab": {
          "base_uri": "https://localhost:8080/"
        },
        "id": "HbxaNW2bYjyf",
        "outputId": "4a7e4e5b-66ac-4ff3-9856-0d980db3675f"
      },
      "source": [
        "x = np.array([2, 1, 4, 3, 5])\n",
        "np.sort(x)\n"
      ],
      "execution_count": 241,
      "outputs": [
        {
          "output_type": "execute_result",
          "data": {
            "text/plain": [
              "array([1, 2, 3, 4, 5])"
            ]
          },
          "metadata": {
            "tags": []
          },
          "execution_count": 241
        }
      ]
    },
    {
      "cell_type": "markdown",
      "metadata": {
        "id": "bpEhsdknYogx"
      },
      "source": [
        "Jika lebih suka mengurutkan array in-place, Anda dapat menggunakan metode sortir array: "
      ]
    },
    {
      "cell_type": "code",
      "metadata": {
        "colab": {
          "base_uri": "https://localhost:8080/"
        },
        "id": "JlWo6eqQYxKY",
        "outputId": "8294f24a-1183-44ff-9e5a-ad31e417dc43"
      },
      "source": [
        "x.sort()\n",
        "print(x)\n"
      ],
      "execution_count": 242,
      "outputs": [
        {
          "output_type": "stream",
          "text": [
            "[1 2 3 4 5]\n"
          ],
          "name": "stdout"
        }
      ]
    },
    {
      "cell_type": "markdown",
      "metadata": {
        "id": "_w6vD4zyY1jt"
      },
      "source": [
        "Fungsi terkait adalah argsort, yang mengembalikan indeks yang diurutkan\n",
        "elemen: "
      ]
    },
    {
      "cell_type": "code",
      "metadata": {
        "colab": {
          "base_uri": "https://localhost:8080/"
        },
        "id": "0n8VfolAY228",
        "outputId": "601f509e-74d5-4fd7-f6ab-7dcf8fae4543"
      },
      "source": [
        "x = np.array([2, 1, 4, 3, 5])\n",
        "i = np.argsort(x)\n",
        "print(i)"
      ],
      "execution_count": 243,
      "outputs": [
        {
          "output_type": "stream",
          "text": [
            "[1 0 3 2 4]\n"
          ],
          "name": "stdout"
        }
      ]
    },
    {
      "cell_type": "markdown",
      "metadata": {
        "id": "GN4cLhxnY9fE"
      },
      "source": [
        "Elemen pertama dari hasil ini memberikan indeks dari elemen terkecil, yang kedua\n",
        "nilai indeks terkecil kedua, dan seterusnya. Indeks ini kemudian bisa\n",
        "digunakan (melalui fancy indexing) untuk membangun array yang diurutkan jika diinginkan: "
      ]
    },
    {
      "cell_type": "code",
      "metadata": {
        "colab": {
          "base_uri": "https://localhost:8080/"
        },
        "id": "DGSF_U5CZARd",
        "outputId": "f047a6ed-8a8d-4a39-e33a-9d1e8c6532e4"
      },
      "source": [
        "x[i]\n"
      ],
      "execution_count": 244,
      "outputs": [
        {
          "output_type": "execute_result",
          "data": {
            "text/plain": [
              "array([1, 2, 3, 4, 5])"
            ]
          },
          "metadata": {
            "tags": []
          },
          "execution_count": 244
        }
      ]
    },
    {
      "cell_type": "markdown",
      "metadata": {
        "id": "G7Sida0eZN4a"
      },
      "source": [
        "**Sorting along rows or columns**"
      ]
    },
    {
      "cell_type": "markdown",
      "metadata": {
        "id": "ws-r7h6lZSm8"
      },
      "source": [
        "Fitur yang berguna dari algoritme pengurutan NumPy adalah kemampuan untuk mengurutkan secara spesifik\n",
        "baris atau kolom dari array multidimensi menggunakan argumen sumbu. Sebagai contoh"
      ]
    },
    {
      "cell_type": "code",
      "metadata": {
        "colab": {
          "base_uri": "https://localhost:8080/"
        },
        "id": "4dJqCBR-ZUKk",
        "outputId": "fc4787a8-99dc-4ceb-fa2d-f8fef98e6bf6"
      },
      "source": [
        "rand = np.random.RandomState(42)\n",
        "X = rand.randint(0, 10, (4, 6))\n",
        "print(X)"
      ],
      "execution_count": 245,
      "outputs": [
        {
          "output_type": "stream",
          "text": [
            "[[6 3 7 4 6 9]\n",
            " [2 6 7 4 3 7]\n",
            " [7 2 5 4 1 7]\n",
            " [5 1 4 0 9 5]]\n"
          ],
          "name": "stdout"
        }
      ]
    },
    {
      "cell_type": "code",
      "metadata": {
        "colab": {
          "base_uri": "https://localhost:8080/"
        },
        "id": "DQp1KOD4ZWHQ",
        "outputId": "fbf513d4-4097-4361-e715-713259eba471"
      },
      "source": [
        "# sort each column of X\n",
        "np.sort(X, axis=0)"
      ],
      "execution_count": 246,
      "outputs": [
        {
          "output_type": "execute_result",
          "data": {
            "text/plain": [
              "array([[2, 1, 4, 0, 1, 5],\n",
              "       [5, 2, 5, 4, 3, 7],\n",
              "       [6, 3, 7, 4, 6, 7],\n",
              "       [7, 6, 7, 4, 9, 9]])"
            ]
          },
          "metadata": {
            "tags": []
          },
          "execution_count": 246
        }
      ]
    },
    {
      "cell_type": "code",
      "metadata": {
        "colab": {
          "base_uri": "https://localhost:8080/"
        },
        "id": "gzWcFrDMZZoB",
        "outputId": "f3f030ab-1b41-45ee-c788-b4db2c688a82"
      },
      "source": [
        "# sort each row of X\n",
        "np.sort(X, axis=1)\n"
      ],
      "execution_count": 247,
      "outputs": [
        {
          "output_type": "execute_result",
          "data": {
            "text/plain": [
              "array([[3, 4, 6, 6, 7, 9],\n",
              "       [2, 3, 4, 6, 7, 7],\n",
              "       [1, 2, 4, 5, 7, 7],\n",
              "       [0, 1, 4, 5, 5, 9]])"
            ]
          },
          "metadata": {
            "tags": []
          },
          "execution_count": 247
        }
      ]
    },
    {
      "cell_type": "markdown",
      "metadata": {
        "id": "rk6Hady6Zdgp"
      },
      "source": [
        "**b. Partial Sorts: Partitioning**\n"
      ]
    },
    {
      "cell_type": "markdown",
      "metadata": {
        "id": "BL7oNNrSZmfi"
      },
      "source": [
        "NumPy menyediakan ini di fungsi np.partition.\n",
        "np.partition mengambil array dan angka K; hasilnya adalah larik baru dengan kecil‐\n",
        "est nilai K di sebelah kiri partisi, dan nilai yang tersisa di sebelah kanan, dengan arbi‐\n",
        "pesanan sewenang wenang: "
      ]
    },
    {
      "cell_type": "code",
      "metadata": {
        "colab": {
          "base_uri": "https://localhost:8080/"
        },
        "id": "D7NUoDSnZtsV",
        "outputId": "1ba7e945-5022-4f91-f2f3-da99ab42950c"
      },
      "source": [
        "x = np.array([7, 2, 3, 1, 6, 5, 4])\n",
        "np.partition(x, 3)"
      ],
      "execution_count": 248,
      "outputs": [
        {
          "output_type": "execute_result",
          "data": {
            "text/plain": [
              "array([2, 1, 3, 4, 6, 5, 7])"
            ]
          },
          "metadata": {
            "tags": []
          },
          "execution_count": 248
        }
      ]
    },
    {
      "cell_type": "markdown",
      "metadata": {
        "id": "ac5u_CZ9Zzcj"
      },
      "source": [
        "Perhatikan bahwa tiga nilai pertama dalam array yang dihasilkan adalah tiga nilai terkecil di\n",
        "array, dan posisi array yang tersisa berisi nilai-nilai yang tersisa. Dalam\n",
        "dua partisi, elemen memiliki urutan sewenang-wenang.\n",
        "\n",
        "Sama halnya dengan pengurutan, kita dapat mempartisi sepanjang sumbu sembarang multidimensi\n",
        "Himpunan: "
      ]
    },
    {
      "cell_type": "code",
      "metadata": {
        "colab": {
          "base_uri": "https://localhost:8080/"
        },
        "id": "zQpSHLlIZ59c",
        "outputId": "c8db270a-04e4-44bb-a6c1-98199b77d07f"
      },
      "source": [
        "np.partition(X, 2, axis=1)"
      ],
      "execution_count": 249,
      "outputs": [
        {
          "output_type": "execute_result",
          "data": {
            "text/plain": [
              "array([[3, 4, 6, 7, 6, 9],\n",
              "       [2, 3, 4, 7, 6, 7],\n",
              "       [1, 2, 4, 5, 7, 7],\n",
              "       [0, 1, 4, 5, 9, 5]])"
            ]
          },
          "metadata": {
            "tags": []
          },
          "execution_count": 249
        }
      ]
    },
    {
      "cell_type": "markdown",
      "metadata": {
        "id": "c4GhNyHIZ9Q8"
      },
      "source": [
        "**c. Example: k-Nearest Neighbors**"
      ]
    },
    {
      "cell_type": "markdown",
      "metadata": {
        "id": "XKPTADDdaFRF"
      },
      "source": [
        "bagaimana kita dapat menggunakan fungsi argsort ini bersama beberapa sumbu untuk menemukan\n",
        "tetangga terdekat dari setiap titik dalam satu set. Kita akan mulai dengan membuat kumpulan acak 10 titik pada bidang dua dimensi. Dengan menggunakan konvensi standar, kami akan mengaturnya\n",
        "ini dalam larik 10 × 2: "
      ]
    },
    {
      "cell_type": "code",
      "metadata": {
        "id": "5dMpLBoFaHZ_"
      },
      "source": [
        "X = rand.rand(10, 2)\n"
      ],
      "execution_count": 250,
      "outputs": []
    },
    {
      "cell_type": "markdown",
      "metadata": {
        "id": "JkTy3oCgaMrb"
      },
      "source": [
        "Untuk mendapatkan gambaran tentang tampilan titik-titik ini, mari kita segera sebarkan plotnya"
      ]
    },
    {
      "cell_type": "code",
      "metadata": {
        "colab": {
          "base_uri": "https://localhost:8080/",
          "height": 268
        },
        "id": "64qZmediaNiN",
        "outputId": "d8b1a350-27ab-49a0-d93e-b18a4b2b5c9a"
      },
      "source": [
        "%matplotlib inline\n",
        "import matplotlib.pyplot as plt\n",
        "import seaborn; seaborn.set() # Plot styling\n",
        "plt.scatter(X[:, 0], X[:, 1], s=100);"
      ],
      "execution_count": 251,
      "outputs": [
        {
          "output_type": "display_data",
          "data": {
            "image/png": "[encoded data removed]",
            "text/plain": [
              "<Figure size 432x288 with 1 Axes>"
            ]
          },
          "metadata": {
            "tags": []
          }
        }
      ]
    },
    {
      "cell_type": "markdown",
      "metadata": {
        "id": "AhmHn0JHaZAz"
      },
      "source": [
        "kita dapat menghitung matriks jarak kuadrat dalam satu baris kode: "
      ]
    },
    {
      "cell_type": "code",
      "metadata": {
        "id": "WhFmrW9taZp-"
      },
      "source": [
        "dist_sq = np.sum((X[:,np.newaxis,:] - X[np.newaxis,:,:]) ** 2, axis=-1)"
      ],
      "execution_count": 254,
      "outputs": []
    },
    {
      "cell_type": "markdown",
      "metadata": {
        "id": "QSFOY7U4agg6"
      },
      "source": [
        "Operasi ini memiliki banyak hal di dalamnya, dan mungkin sedikit membingungkan jika Anda tidak\n",
        "miliar dengan aturan penyiaran NumPy. Ketika Anda menemukan kode seperti ini, itu bisa\n",
        "berguna untuk memecahnya menjadi langkah-langkah komponennya: "
      ]
    },
    {
      "cell_type": "code",
      "metadata": {
        "colab": {
          "base_uri": "https://localhost:8080/"
        },
        "id": "ePJLZ3WRakBG",
        "outputId": "c016cacf-483f-42a5-fdf4-41465c768ea7"
      },
      "source": [
        "# for each pair of points, compute differences in their coordinates\n",
        "differences = X[:, np.newaxis, :] - X[np.newaxis, :, :]\n",
        "differences.shape"
      ],
      "execution_count": 255,
      "outputs": [
        {
          "output_type": "execute_result",
          "data": {
            "text/plain": [
              "(10, 10, 2)"
            ]
          },
          "metadata": {
            "tags": []
          },
          "execution_count": 255
        }
      ]
    },
    {
      "cell_type": "code",
      "metadata": {
        "colab": {
          "base_uri": "https://localhost:8080/"
        },
        "id": "i_zq3E7_anSP",
        "outputId": "df294113-7412-4cd6-f453-b8bf9c31a8c2"
      },
      "source": [
        "# square the coordinate differences\n",
        "sq_differences = differences ** 2\n",
        "sq_differences.shape"
      ],
      "execution_count": 256,
      "outputs": [
        {
          "output_type": "execute_result",
          "data": {
            "text/plain": [
              "(10, 10, 2)"
            ]
          },
          "metadata": {
            "tags": []
          },
          "execution_count": 256
        }
      ]
    },
    {
      "cell_type": "code",
      "metadata": {
        "colab": {
          "base_uri": "https://localhost:8080/"
        },
        "id": "-HfCKOmfapxR",
        "outputId": "bf28e88c-218f-4dfc-c439-a531777a3452"
      },
      "source": [
        "# sum the coordinate differences to get the squared distance\n",
        "dist_sq = sq_differences.sum(-1)\n",
        "dist_sq.shape"
      ],
      "execution_count": 257,
      "outputs": [
        {
          "output_type": "execute_result",
          "data": {
            "text/plain": [
              "(10, 10)"
            ]
          },
          "metadata": {
            "tags": []
          },
          "execution_count": 257
        }
      ]
    },
    {
      "cell_type": "markdown",
      "metadata": {
        "id": "Zr5nupskawV4"
      },
      "source": [
        "Hanya untuk memeriksa ulang apa yang kita lakukan, kita harus melihat bahwa diagonal matriks ini\n",
        "(yaitu, himpunan jarak antara setiap titik dan titik itu sendiri) semuanya nol: "
      ]
    },
    {
      "cell_type": "code",
      "metadata": {
        "colab": {
          "base_uri": "https://localhost:8080/"
        },
        "id": "T0l4sGnXaxrb",
        "outputId": "dff8856d-715e-4a93-d4d0-f447f8fa1c47"
      },
      "source": [
        "dist_sq.diagonal()"
      ],
      "execution_count": 258,
      "outputs": [
        {
          "output_type": "execute_result",
          "data": {
            "text/plain": [
              "array([0., 0., 0., 0., 0., 0., 0., 0., 0., 0.])"
            ]
          },
          "metadata": {
            "tags": []
          },
          "execution_count": 258
        }
      ]
    },
    {
      "cell_type": "markdown",
      "metadata": {
        "id": "jHN3X7vva2e3"
      },
      "source": [
        "Dengan konversi jarak persegi berpasangan, sekarang kita dapat menggunakan np.arg sortir untuk mengurutkan sepanjang setiap baris. Kolom paling kiri kemudian akan memberikan indeks dari\n",
        "tetangga terdekat: "
      ]
    },
    {
      "cell_type": "code",
      "metadata": {
        "colab": {
          "base_uri": "https://localhost:8080/"
        },
        "id": "F0WQRyCta5qL",
        "outputId": "464dcf70-0b9c-406d-ef44-921ffe43eaf9"
      },
      "source": [
        "nearest = np.argsort(dist_sq, axis=1)\n",
        "print(nearest)"
      ],
      "execution_count": 259,
      "outputs": [
        {
          "output_type": "stream",
          "text": [
            "[[0 3 9 7 1 4 2 5 6 8]\n",
            " [1 4 7 9 3 6 8 5 0 2]\n",
            " [2 1 4 6 3 0 8 9 7 5]\n",
            " [3 9 7 0 1 4 5 8 6 2]\n",
            " [4 1 8 5 6 7 9 3 0 2]\n",
            " [5 8 6 4 1 7 9 3 2 0]\n",
            " [6 8 5 4 1 7 9 3 2 0]\n",
            " [7 9 3 1 4 0 5 8 6 2]\n",
            " [8 5 6 4 1 7 9 3 2 0]\n",
            " [9 7 3 0 1 4 5 8 6 2]]\n"
          ],
          "name": "stdout"
        }
      ]
    },
    {
      "cell_type": "markdown",
      "metadata": {
        "id": "Blt7VPI9bBCR"
      },
      "source": [
        "Jika kita hanya tertarik pada k tetangga terdekat, yang kita butuhkan hanyalah mempartisi masing-masing\n",
        "baris sehingga k + 1 jarak kuadrat terkecil diutamakan, dengan jarak yang lebih besar mengisi‐\n",
        "mengambil posisi array yang tersisa. Kita bisa melakukan ini dengan np.argpartition\n",
        "fungsi: "
      ]
    },
    {
      "cell_type": "code",
      "metadata": {
        "id": "_AD8c9XPbDA-"
      },
      "source": [
        "K = 2\n",
        "nearest_partition = np.argpartition(dist_sq, K + 1, axis=1)\n"
      ],
      "execution_count": 260,
      "outputs": []
    },
    {
      "cell_type": "code",
      "metadata": {
        "colab": {
          "base_uri": "https://localhost:8080/",
          "height": 268
        },
        "id": "4vi3K4WobHid",
        "outputId": "23a3bacc-145a-4294-a4cd-63b61711dfd9"
      },
      "source": [
        "#visualisasi jaringan neighbors\n",
        "plt.scatter(X[:, 0], X[:, 1], s=100)\n",
        "# draw lines from each point to its two nearest neighbors\n",
        "K = 2\n",
        "for i in range(X.shape[0]):\n",
        "  for j in nearest_partition[i, :K+1]:\n",
        "# plot a line from X[i] to X[j]\n",
        "# use some zip magic to make it happen:\n",
        "    plt.plot(*zip(X[j], X[i]), color='black')\n"
      ],
      "execution_count": 266,
      "outputs": [
        {
          "output_type": "display_data",
          "data": {
            "image/png": "[encoded data removed]",
            "text/plain": [
              "<Figure size 432x288 with 1 Axes>"
            ]
          },
          "metadata": {
            "tags": []
          }
        }
      ]
    },
    {
      "cell_type": "markdown",
      "metadata": {
        "id": "w6mo5Yfqbo3i"
      },
      "source": [
        "**9) Structured Data: NumPy’s Structured Arrays**"
      ]
    },
    {
      "cell_type": "markdown",
      "metadata": {
        "id": "u5k0P5m7b1hP"
      },
      "source": [
        "Bagian ini mendemonstrasikan penggunaan array terstruktur dan record array NumPy, yang menyediakan penyimpanan yang efisien untuk data majemuk dan heterogen. "
      ]
    },
    {
      "cell_type": "markdown",
      "metadata": {
        "id": "UEOlwI3db6ey"
      },
      "source": [
        "Bayangkan kita memiliki beberapa kategori data tentang sejumlah orang (misalnya, nama,\n",
        "usia, dan berat badan), dan kami ingin menyimpan nilai ini untuk digunakan dalam program Python. Ini akan memungkinkan untuk menyimpan ini dalam tiga larik terpisah: "
      ]
    },
    {
      "cell_type": "code",
      "metadata": {
        "id": "mMUqOAp8b9iY"
      },
      "source": [
        "name = ['Alice', 'Bob', 'Cathy', 'Doug']\n",
        "age = [25, 45, 37, 19]\n",
        "weight = [55.0, 85.5, 68.0, 61.5]\n"
      ],
      "execution_count": 267,
      "outputs": []
    },
    {
      "cell_type": "markdown",
      "metadata": {
        "id": "ZKFa0LW6cIkr"
      },
      "source": [
        "Tapi ini agak clumsy. Tidak ada apa pun di sini yang memberi tahu kita bahwa ketiga array itu\n",
        "terkait; maka digunakan satu struktur untuk menyimpan semua data ini. NumPy dapat menangani ini melalui array terstruktur, yang merupakan array dengan gabungan  tipe data.\n",
        "Ingatlah bahwa sebelumnya kita membuat array sederhana menggunakan ekspresi seperti ini:"
      ]
    },
    {
      "cell_type": "code",
      "metadata": {
        "id": "tP7WO0oEcfdt"
      },
      "source": [
        "x = np.zeros(4, dtype=int)\n"
      ],
      "execution_count": 268,
      "outputs": []
    },
    {
      "cell_type": "code",
      "metadata": {
        "colab": {
          "base_uri": "https://localhost:8080/"
        },
        "id": "G-WpnIq6clIP",
        "outputId": "ea130110-0afe-48bf-f007-75d7570bcd62"
      },
      "source": [
        "#membuat array terstruktur menggunakan spesifikasi tipe data gabungan\n",
        "# Use a compound data type for structured arrays\n",
        "data = np.zeros(4, dtype={'names':('name', 'age', 'weight'),'formats':('U10', 'i4', 'f8')})\n",
        "print(data.dtype)\n"
      ],
      "execution_count": 269,
      "outputs": [
        {
          "output_type": "stream",
          "text": [
            "[('name', '<U10'), ('age', '<i4'), ('weight', '<f8')]\n"
          ],
          "name": "stdout"
        }
      ]
    },
    {
      "cell_type": "code",
      "metadata": {
        "colab": {
          "base_uri": "https://localhost:8080/"
        },
        "id": "-dp4RQPBcuf6",
        "outputId": "95cd6f03-85cb-46c0-bbe0-5bd836fdf6ae"
      },
      "source": [
        "#setelah kita membuat larik penampung kosong, kita bisa mengisi larik dengan daftar nilai: \n",
        "data['name'] = name\n",
        "data['age'] = age\n",
        "data['weight'] = weight\n",
        "print(data)"
      ],
      "execution_count": 270,
      "outputs": [
        {
          "output_type": "stream",
          "text": [
            "[('Alice', 25, 55. ) ('Bob', 45, 85.5) ('Cathy', 37, 68. )\n",
            " ('Doug', 19, 61.5)]\n"
          ],
          "name": "stdout"
        }
      ]
    },
    {
      "cell_type": "markdown",
      "metadata": {
        "id": "ENCrGakrdCy6"
      },
      "source": [
        "Hal yang berguna dengan array terstruktur adalah Anda sekarang dapat merujuk ke nilai dengan\n",
        "indeks atau dengan nama: "
      ]
    },
    {
      "cell_type": "code",
      "metadata": {
        "colab": {
          "base_uri": "https://localhost:8080/"
        },
        "id": "LytgfOezdFHJ",
        "outputId": "42dd8558-9054-4e5c-b202-676f7811e7e7"
      },
      "source": [
        "# Get all names\n",
        "data['name']\n"
      ],
      "execution_count": 271,
      "outputs": [
        {
          "output_type": "execute_result",
          "data": {
            "text/plain": [
              "array(['Alice', 'Bob', 'Cathy', 'Doug'], dtype='<U10')"
            ]
          },
          "metadata": {
            "tags": []
          },
          "execution_count": 271
        }
      ]
    },
    {
      "cell_type": "code",
      "metadata": {
        "colab": {
          "base_uri": "https://localhost:8080/"
        },
        "id": "--5N0ShTdG59",
        "outputId": "69e3cec9-86e4-4768-bc43-d12bff567bdd"
      },
      "source": [
        "# Get first row of data\n",
        "data[0]"
      ],
      "execution_count": 272,
      "outputs": [
        {
          "output_type": "execute_result",
          "data": {
            "text/plain": [
              "('Alice', 25, 55.)"
            ]
          },
          "metadata": {
            "tags": []
          },
          "execution_count": 272
        }
      ]
    },
    {
      "cell_type": "code",
      "metadata": {
        "colab": {
          "base_uri": "https://localhost:8080/",
          "height": 36
        },
        "id": "y1chP30rdJE6",
        "outputId": "d753f015-8f3e-4f93-e3f9-f5be475bb64c"
      },
      "source": [
        "# Get the name from the last row\n",
        "data[-1]['name']\n"
      ],
      "execution_count": 273,
      "outputs": [
        {
          "output_type": "execute_result",
          "data": {
            "application/vnd.google.colaboratory.intrinsic+json": {
              "type": "string"
            },
            "text/plain": [
              "'Doug'"
            ]
          },
          "metadata": {
            "tags": []
          },
          "execution_count": 273
        }
      ]
    },
    {
      "cell_type": "code",
      "metadata": {
        "colab": {
          "base_uri": "https://localhost:8080/"
        },
        "id": "lFEidf7UdPHg",
        "outputId": "60275ca9-7eb2-47ff-b6b9-4b154e531d7d"
      },
      "source": [
        "#Menggunakan boolean masking untuk filter usia\n",
        "# Get names where age is under 30\n",
        "data[data['age'] < 30]['name']"
      ],
      "execution_count": 274,
      "outputs": [
        {
          "output_type": "execute_result",
          "data": {
            "text/plain": [
              "array(['Alice', 'Doug'], dtype='<U10')"
            ]
          },
          "metadata": {
            "tags": []
          },
          "execution_count": 274
        }
      ]
    },
    {
      "cell_type": "markdown",
      "metadata": {
        "id": "OFeufw4ldYf-"
      },
      "source": [
        "**a. Creating Structured Arrays**\n"
      ]
    },
    {
      "cell_type": "markdown",
      "metadata": {
        "id": "l8f6oOOWdgh5"
      },
      "source": [
        "Tipe data array terstruktur dapat ditentukan dengan beberapa cara. Sebelumnya"
      ]
    },
    {
      "cell_type": "code",
      "metadata": {
        "colab": {
          "base_uri": "https://localhost:8080/"
        },
        "id": "g398CkpPdiPs",
        "outputId": "e772d275-73a8-45ec-ffad-9b519306ff13"
      },
      "source": [
        "np.dtype({'names':('name', 'age', 'weight'),'formats':('U10', 'i4', 'f8')})\n"
      ],
      "execution_count": 275,
      "outputs": [
        {
          "output_type": "execute_result",
          "data": {
            "text/plain": [
              "dtype([('name', '<U10'), ('age', '<i4'), ('weight', '<f8')])"
            ]
          },
          "metadata": {
            "tags": []
          },
          "execution_count": 275
        }
      ]
    },
    {
      "cell_type": "markdown",
      "metadata": {
        "id": "9ifVztwFdmVZ"
      },
      "source": [
        "Untuk kejelasan, tipe numerik dapat ditentukan dengan tipe Python atau dtypes NumPy\n",
        "sebagai gantinya: "
      ]
    },
    {
      "cell_type": "code",
      "metadata": {
        "colab": {
          "base_uri": "https://localhost:8080/"
        },
        "id": "_thLHTdOdnqY",
        "outputId": "1a93aeb1-1903-405b-bb39-fbb0aea9902a"
      },
      "source": [
        "np.dtype({'names':('name', 'age', 'weight'),'formats':((np.str_, 10), int, np.float32)})\n"
      ],
      "execution_count": 276,
      "outputs": [
        {
          "output_type": "execute_result",
          "data": {
            "text/plain": [
              "dtype([('name', '<U10'), ('age', '<i8'), ('weight', '<f4')])"
            ]
          },
          "metadata": {
            "tags": []
          },
          "execution_count": 276
        }
      ]
    },
    {
      "cell_type": "code",
      "metadata": {
        "colab": {
          "base_uri": "https://localhost:8080/"
        },
        "id": "eWGdiwtFdsev",
        "outputId": "6b38c169-4dc7-4188-935e-e2a8667e3dd9"
      },
      "source": [
        "#Jenis gabungan juga dapat ditentukan sebagai daftar tupel: \n",
        "np.dtype([('name', 'S10'), ('age', 'i4'), ('weight', 'f8')])"
      ],
      "execution_count": 277,
      "outputs": [
        {
          "output_type": "execute_result",
          "data": {
            "text/plain": [
              "dtype([('name', 'S10'), ('age', '<i4'), ('weight', '<f8')])"
            ]
          },
          "metadata": {
            "tags": []
          },
          "execution_count": 277
        }
      ]
    },
    {
      "cell_type": "markdown",
      "metadata": {
        "id": "Vxr3UQVmd2KW"
      },
      "source": [
        "Jika nama jenis tidak penting bagi Anda, Anda dapat menentukan jenisnya sendiri dalam string yang dipisahkan koma: "
      ]
    },
    {
      "cell_type": "code",
      "metadata": {
        "colab": {
          "base_uri": "https://localhost:8080/"
        },
        "id": "ZGRG4-2ad3Xe",
        "outputId": "04757f2d-ce68-4f94-e308-0b79990186d8"
      },
      "source": [
        "np.dtype('S10,i4,f8')\n"
      ],
      "execution_count": 278,
      "outputs": [
        {
          "output_type": "execute_result",
          "data": {
            "text/plain": [
              "dtype([('f0', 'S10'), ('f1', '<i4'), ('f2', '<f8')])"
            ]
          },
          "metadata": {
            "tags": []
          },
          "execution_count": 278
        }
      ]
    },
    {
      "cell_type": "markdown",
      "metadata": {
        "id": "uJ9nqpK_d8Du"
      },
      "source": [
        "**b. More Advanced Compound Types**\n"
      ]
    },
    {
      "cell_type": "markdown",
      "metadata": {
        "id": "6uV5NQPreD0f"
      },
      "source": [
        "Dimungkinkan untuk mendefinisikan tipe gabungan yang lebih maju. Misalnya, Anda bisa buat tipe di mana setiap elemen berisi larik atau matriks nilai. Di sini, kita akan\n",
        "buat tipe data dengan komponen matriks yang terdiri dari matriks floating-point 3 × 3: "
      ]
    },
    {
      "cell_type": "code",
      "metadata": {
        "colab": {
          "base_uri": "https://localhost:8080/"
        },
        "id": "v3MwFumSeLZN",
        "outputId": "8b7b3782-ce00-4dc8-8214-03f17676fb89"
      },
      "source": [
        "tp = np.dtype([('id', 'i8'), ('mat', 'f8', (3, 3))])\n",
        "X = np.zeros(1, dtype=tp)\n",
        "print(X[0])\n",
        "print(X['mat'][0])\n"
      ],
      "execution_count": 279,
      "outputs": [
        {
          "output_type": "stream",
          "text": [
            "(0, [[0., 0., 0.], [0., 0., 0.], [0., 0., 0.]])\n",
            "[[0. 0. 0.]\n",
            " [0. 0. 0.]\n",
            " [0. 0. 0.]]\n"
          ],
          "name": "stdout"
        }
      ]
    },
    {
      "cell_type": "markdown",
      "metadata": {
        "id": "UFKyEyVmeQUh"
      },
      "source": [
        "**c. RecordArrays: Structured Arrays with a Twist**"
      ]
    },
    {
      "cell_type": "markdown",
      "metadata": {
        "id": "XdShpp8WeV7s"
      },
      "source": [
        "NumPy juga menyediakan kelas np.recarray, yang hampir identik dengan array terstruktur yang baru saja dijelaskan, tetapi dengan satu fitur tambahan: bidang dapat diakses sebagai\n",
        "atribut bukan sebagai kunci kamus. Ingatlah bahwa kita sebelumnya mengakses usia\n",
        "dengan menulis: "
      ]
    },
    {
      "cell_type": "code",
      "metadata": {
        "colab": {
          "base_uri": "https://localhost:8080/"
        },
        "id": "ljnqMml8eXbQ",
        "outputId": "664a7056-20d2-443b-a49b-a85eac1fd6b8"
      },
      "source": [
        "data['age']"
      ],
      "execution_count": 280,
      "outputs": [
        {
          "output_type": "execute_result",
          "data": {
            "text/plain": [
              "array([25, 45, 37, 19], dtype=int32)"
            ]
          },
          "metadata": {
            "tags": []
          },
          "execution_count": 280
        }
      ]
    },
    {
      "cell_type": "markdown",
      "metadata": {
        "id": "7CcWPoQ6ebuP"
      },
      "source": [
        "Jika kita melihat data kita sebagai record array, kita dapat mengaksesnya dengan sedikit lebih sedikit\n",
        "penekanan tombol: "
      ]
    },
    {
      "cell_type": "code",
      "metadata": {
        "colab": {
          "base_uri": "https://localhost:8080/"
        },
        "id": "PNfSAoYxedNR",
        "outputId": "16855c20-1bc8-4950-bc65-60f1939cc12b"
      },
      "source": [
        "data_rec = data.view(np.recarray)\n",
        "data_rec.age"
      ],
      "execution_count": 281,
      "outputs": [
        {
          "output_type": "execute_result",
          "data": {
            "text/plain": [
              "array([25, 45, 37, 19], dtype=int32)"
            ]
          },
          "metadata": {
            "tags": []
          },
          "execution_count": 281
        }
      ]
    },
    {
      "cell_type": "markdown",
      "metadata": {
        "id": "WAt4ujo_ekOO"
      },
      "source": [
        "Sisi negatifnya adalah untuk array record, ada beberapa overhead tambahan yang terlibat di dalamnya\n",
        "mengakses bidang, bahkan saat menggunakan sintaks yang sama. Kita bisa melihat ini di sini: "
      ]
    },
    {
      "cell_type": "code",
      "metadata": {
        "colab": {
          "base_uri": "https://localhost:8080/"
        },
        "id": "orht1dQWelqw",
        "outputId": "74fd28e6-adad-4114-fb28-2a723c28b1dd"
      },
      "source": [
        "%timeit data['age']\n",
        "%timeit data_rec['age']\n",
        "%timeit data_rec.age"
      ],
      "execution_count": 282,
      "outputs": [
        {
          "output_type": "stream",
          "text": [
            "The slowest run took 45.60 times longer than the fastest. This could mean that an intermediate result is being cached.\n",
            "1000000 loops, best of 5: 220 ns per loop\n",
            "The slowest run took 8.48 times longer than the fastest. This could mean that an intermediate result is being cached.\n",
            "100000 loops, best of 5: 3.1 µs per loop\n",
            "The slowest run took 6.72 times longer than the fastest. This could mean that an intermediate result is being cached.\n",
            "100000 loops, best of 5: 3.93 µs per loop\n"
          ],
          "name": "stdout"
        }
      ]
    },
    {
      "cell_type": "markdown",
      "metadata": {
        "id": "oEu0UjEfes58"
      },
      "source": [
        "**d. On to Pandas**\n"
      ]
    },
    {
      "cell_type": "markdown",
      "metadata": {
        "id": "szMbu1hBe3wV"
      },
      "source": [
        "Array terstruktur\n",
        "seperti yang dibahas di sini sebaiknya diketahui untuk situasi tertentu, khususnya\n",
        "jika kita menggunakan array NumPy untuk memetakan ke format data biner di C, Fortran, atau\n",
        "bahasa lain. Untuk penggunaan data terstruktur sehari-hari, paket Pandas adalah pilihan yang jauh lebih baik."
      ]
    }
  ]
}